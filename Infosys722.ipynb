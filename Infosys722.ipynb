{
 "cells": [
  {
   "cell_type": "code",
   "execution_count": 1,
   "metadata": {},
   "outputs": [
    {
     "name": "stderr",
     "output_type": "stream",
     "text": [
      "WARNING: An illegal reflective access operation has occurred\n",
      "WARNING: Illegal reflective access by org.apache.spark.unsafe.Platform (file:/home/ubuntu/spark-3.2.1-bin-hadoop2.7/jars/spark-unsafe_2.12-3.2.1.jar) to constructor java.nio.DirectByteBuffer(long,int)\n",
      "WARNING: Please consider reporting this to the maintainers of org.apache.spark.unsafe.Platform\n",
      "WARNING: Use --illegal-access=warn to enable warnings of further illegal reflective access operations\n",
      "WARNING: All illegal access operations will be denied in a future release\n",
      "Using Spark's default log4j profile: org/apache/spark/log4j-defaults.properties\n",
      "Setting default log level to \"WARN\".\n",
      "To adjust logging level use sc.setLogLevel(newLevel). For SparkR, use setLogLevel(newLevel).\n",
      "22/10/08 09:55:50 WARN NativeCodeLoader: Unable to load native-hadoop library for your platform... using builtin-java classes where applicable\n"
     ]
    }
   ],
   "source": [
    "import findspark\n",
    "findspark.init('spark-3.2.1-bin-hadoop2.7')\n",
    "import pyspark\n",
    "from pyspark.sql import SparkSession\n",
    "spark = SparkSession.builder.appName('infosys722').getOrCreate()"
   ]
  },
  {
   "cell_type": "code",
   "execution_count": 2,
   "metadata": {},
   "outputs": [
    {
     "name": "stderr",
     "output_type": "stream",
     "text": [
      "                                                                                \r"
     ]
    }
   ],
   "source": [
    "df = spark.read.load('part_A.csv', format='csv',header='true')"
   ]
  },
  {
   "cell_type": "code",
   "execution_count": 3,
   "metadata": {},
   "outputs": [
    {
     "name": "stdout",
     "output_type": "stream",
     "text": [
      "ID , StringType\n",
      "Country , StringType\n",
      "UNICEF Region , StringType\n",
      "Year , StringType\n",
      "Sex , StringType\n",
      "Age , StringType\n",
      "Estimated incidence rate of new HIV infection per 1000  , StringType\n",
      "Estimated number of annual AIDS related deaths , StringType\n",
      "Estimated number of annual new HIV infections , StringType\n"
     ]
    }
   ],
   "source": [
    "for field in df.schema.fields:\n",
    "    print(field.name +\" , \"+str(field.dataType))"
   ]
  },
  {
   "cell_type": "code",
   "execution_count": 4,
   "metadata": {},
   "outputs": [
    {
     "name": "stdout",
     "output_type": "stream",
     "text": [
      "ID , string\n",
      "Country , string\n",
      "UNICEF Region , string\n",
      "Year , string\n",
      "Sex , string\n",
      "Age , string\n",
      "Estimated incidence rate of new HIV infection per 1000  , string\n",
      "Estimated number of annual AIDS related deaths , string\n",
      "Estimated number of annual new HIV infections , string\n"
     ]
    }
   ],
   "source": [
    "for col in df.dtypes:\n",
    "    print(col[0]+\" , \"+col[1])"
   ]
  },
  {
   "cell_type": "code",
   "execution_count": 5,
   "metadata": {},
   "outputs": [
    {
     "name": "stdout",
     "output_type": "stream",
     "text": [
      "+---+-------+--------------------+----+------+---------+-------------------------------------------------------+----------------------------------------------+---------------------------------------------+\n",
      "| ID|Country|       UNICEF Region|Year|   Sex|      Age|Estimated incidence rate of new HIV infection per 1000 |Estimated number of annual AIDS related deaths|Estimated number of annual new HIV infections|\n",
      "+---+-------+--------------------+----+------+---------+-------------------------------------------------------+----------------------------------------------+---------------------------------------------+\n",
      "|  1| Angola|Eastern and South...|1990|Female|Age 10-19|                                                   0.64|                                           100|                                          500|\n",
      "|  2| Angola|Eastern and South...|1990|  Male|Age 10-19|                                                   0.15|                                           100|                                          100|\n",
      "|  3| Angola|Eastern and South...|1991|Female|Age 10-19|                                                   0.75|                                           100|                                          500|\n",
      "|  4| Angola|Eastern and South...|1991|  Male|Age 10-19|                                                   0.17|                                           100|                                          200|\n",
      "|  5| Angola|Eastern and South...|1992|Female|Age 10-19|                                                   0.88|                                           100|                                          590|\n",
      "|  6| Angola|Eastern and South...|1992|  Male|Age 10-19|                                                   0.19|                                           100|                                          200|\n",
      "|  7| Angola|Eastern and South...|1993|Female|Age 10-19|                                                   1.04|                                           100|                                          720|\n",
      "|  8| Angola|Eastern and South...|1993|  Male|Age 10-19|                                                   0.23|                                           100|                                          200|\n",
      "|  9| Angola|Eastern and South...|1994|Female|Age 10-19|                                                   1.19|                                           100|                                          850|\n",
      "| 10| Angola|Eastern and South...|1994|  Male|Age 10-19|                                                   0.26|                                           100|                                          200|\n",
      "| 11| Angola|Eastern and South...|1995|Female|Age 10-19|                                                   1.33|                                           100|                                          990|\n",
      "| 12| Angola|Eastern and South...|1995|  Male|Age 10-19|                                                   0.29|                                           100|                                          500|\n",
      "| 13| Angola|Eastern and South...|1996|Female|Age 10-19|                                                   1.51|                                           100|                                         1200|\n",
      "| 14| Angola|Eastern and South...|1996|  Male|Age 10-19|                                                   0.32|                                           100|                                          500|\n",
      "| 15| Angola|Eastern and South...|1997|Female|Age 10-19|                                                   1.67|                                           100|                                         1300|\n",
      "| 16| Angola|Eastern and South...|1997|  Male|Age 10-19|                                                   0.36|                                           100|                                          500|\n",
      "| 17| Angola|Eastern and South...|1998|Female|Age 10-19|                                                   1.84|                                           100|                                         1500|\n",
      "| 18| Angola|Eastern and South...|1998|  Male|Age 10-19|                                                   0.39|                                           100|                                          500|\n",
      "| 19| Angola|Eastern and South...|1999|Female|Age 10-19|                                                   2.02|                                           100|                                         1700|\n",
      "| 20| Angola|Eastern and South...|1999|  Male|Age 10-19|                                                   0.43|                                           100|                                          500|\n",
      "+---+-------+--------------------+----+------+---------+-------------------------------------------------------+----------------------------------------------+---------------------------------------------+\n",
      "only showing top 20 rows\n",
      "\n"
     ]
    }
   ],
   "source": [
    "df.show()"
   ]
  },
  {
   "cell_type": "code",
   "execution_count": 6,
   "metadata": {
    "scrolled": true
   },
   "outputs": [
    {
     "data": {
      "text/plain": [
       "['ID',\n",
       " 'Country',\n",
       " 'UNICEF Region',\n",
       " 'Year',\n",
       " 'Sex',\n",
       " 'Age',\n",
       " 'Estimated incidence rate of new HIV infection per 1000 ',\n",
       " 'Estimated number of annual AIDS related deaths',\n",
       " 'Estimated number of annual new HIV infections']"
      ]
     },
     "execution_count": 6,
     "metadata": {},
     "output_type": "execute_result"
    }
   ],
   "source": [
    "df.columns"
   ]
  },
  {
   "cell_type": "code",
   "execution_count": 7,
   "metadata": {
    "scrolled": true
   },
   "outputs": [
    {
     "name": "stdout",
     "output_type": "stream",
     "text": [
      "Dimension of the Dataframe is: (5280, 9)\n",
      "Number of Rows are: 5280\n",
      "Number of Columns are: 9\n"
     ]
    }
   ],
   "source": [
    "  # extracting number of rows from the Dataframe\n",
    "  row = df.count()\n",
    "   \n",
    "  # extracting number of columns from the Dataframe\n",
    "  col = len(df.columns)\n",
    " \n",
    "  # printing\n",
    "  print(f'Dimension of the Dataframe is: {(row,col)}')\n",
    "  print(f'Number of Rows are: {row}')\n",
    "  print(f'Number of Columns are: {col}')"
   ]
  },
  {
   "cell_type": "code",
   "execution_count": 8,
   "metadata": {},
   "outputs": [],
   "source": [
    "# Import the pandas library.\n",
    "import pandas\n",
    "# Import matplotlib\n",
    "import matplotlib.pyplot as plt\n",
    "#import numpy\n",
    "import numpy as np"
   ]
  },
  {
   "cell_type": "code",
   "execution_count": 9,
   "metadata": {},
   "outputs": [
    {
     "name": "stdout",
     "output_type": "stream",
     "text": [
      "Country\n",
      "Angola                              120\n",
      "Benin                               120\n",
      "Burkina Faso                        120\n",
      "Burundi                             120\n",
      "C?te d'Ivoire                       120\n",
      "Cameroon                            120\n",
      "Central African Republic            120\n",
      "Chad                                120\n",
      "Congo                               120\n",
      "Democratic Republic of the Congo    120\n",
      "Djibouti                            120\n",
      "Equatorial Guinea                   120\n",
      "Eritrea                             120\n",
      "Eswatini                            120\n",
      "Ethiopia                            120\n",
      "Gabon                               120\n",
      "Gambia                              120\n",
      "Ghana                               120\n",
      "Guinea                              120\n",
      "Guinea-Bissau                       120\n",
      "Kenya                               120\n",
      "Lesotho                             120\n",
      "Liberia                             120\n",
      "Madagascar                          120\n",
      "Malawi                              120\n",
      "Mali                                120\n",
      "Mauritania                          120\n",
      "Mauritius                           120\n",
      "Mozambique                          120\n",
      "Namibia                             120\n",
      "Niger                               120\n",
      "Nigeria                             120\n",
      "Rwanda                              120\n",
      "Senegal                             120\n",
      "Sierra Leone                        120\n",
      "Somalia                             120\n",
      "South Africa                        120\n",
      "South Sudan                         120\n",
      "Sudan                               120\n",
      "Togo                                120\n",
      "Uganda                              120\n",
      "United Republic of Tanzania         120\n",
      "Zambia                              120\n",
      "Zimbabwe                            120\n",
      "dtype: int64\n"
     ]
    },
    {
     "data": {
      "text/plain": [
       "<BarContainer object of 5280 artists>"
      ]
     },
     "execution_count": 9,
     "metadata": {},
     "output_type": "execute_result"
    },
    {
     "data": {
      "image/png": "[encoded data removed]",
      "text/plain": [
       "<Figure size 432x288 with 1 Axes>"
      ]
     },
     "metadata": {
      "needs_background": "light"
     },
     "output_type": "display_data"
    }
   ],
   "source": [
    "# convert pysaprk df to pandas df for data plotting\n",
    "\n",
    "table=df.toPandas()\n",
    "\n",
    "\n",
    "# Country field exploration\n",
    "country_count=table.pivot_table(columns=['Country'],aggfunc='size')\n",
    "table['Country'].nunique()\n",
    "print(country_count)\n",
    "plt.xticks(rotation='vertical')\n",
    "plt.bar(table['Country'],1)"
   ]
  },
  {
   "cell_type": "code",
   "execution_count": 10,
   "metadata": {},
   "outputs": [
    {
     "name": "stdout",
     "output_type": "stream",
     "text": [
      "UNICEF Region\n",
      "Eastern and Southern Africa    2640\n",
      "West and Central Africa        2640\n",
      "dtype: int64\n"
     ]
    },
    {
     "data": {
      "image/png": "[encoded data removed]",
      "text/plain": [
       "<Figure size 432x288 with 1 Axes>"
      ]
     },
     "metadata": {
      "needs_background": "light"
     },
     "output_type": "display_data"
    }
   ],
   "source": [
    "# Region field exploration \n",
    "plt.bar(table['UNICEF Region'],np.random.rand(len(table)))\n",
    "print(table.pivot_table(columns=['UNICEF Region'],aggfunc='size'))"
   ]
  },
  {
   "cell_type": "code",
   "execution_count": 11,
   "metadata": {},
   "outputs": [
    {
     "name": "stdout",
     "output_type": "stream",
     "text": [
      "Year\n",
      "1990    176\n",
      "1991    176\n",
      "1992    176\n",
      "1993    176\n",
      "1994    176\n",
      "1995    176\n",
      "1996    176\n",
      "1997    176\n",
      "1998    176\n",
      "1999    176\n",
      "2000    176\n",
      "2001    176\n",
      "2002    176\n",
      "2003    176\n",
      "2004    176\n",
      "2005    176\n",
      "2006    176\n",
      "2007    176\n",
      "2008    176\n",
      "2009    176\n",
      "2010    176\n",
      "2011    176\n",
      "2012    176\n",
      "2013    176\n",
      "2014    176\n",
      "2015    176\n",
      "2016    176\n",
      "2017    176\n",
      "2018    176\n",
      "2019    176\n",
      "dtype: int64\n"
     ]
    },
    {
     "data": {
      "image/png": "[encoded data removed]",
      "text/plain": [
       "<Figure size 432x288 with 1 Axes>"
      ]
     },
     "metadata": {
      "needs_background": "light"
     },
     "output_type": "display_data"
    }
   ],
   "source": [
    "# Year field exploration \n",
    "plt.bar(table['Year'],1)\n",
    "plt.xticks(rotation='vertical')\n",
    "print(table.pivot_table(columns=['Year'],aggfunc='size'))"
   ]
  },
  {
   "cell_type": "code",
   "execution_count": 12,
   "metadata": {},
   "outputs": [
    {
     "data": {
      "text/plain": [
       "<BarContainer object of 5280 artists>"
      ]
     },
     "execution_count": 12,
     "metadata": {},
     "output_type": "execute_result"
    },
    {
     "data": {
      "image/png": "[encoded data removed]",
      "text/plain": [
       "<Figure size 432x288 with 1 Axes>"
      ]
     },
     "metadata": {
      "needs_background": "light"
     },
     "output_type": "display_data"
    }
   ],
   "source": [
    "#Sex field exploration\n",
    "plt.bar(table['Sex'],np.random.rand(len(table)))"
   ]
  },
  {
   "cell_type": "code",
   "execution_count": 13,
   "metadata": {},
   "outputs": [
    {
     "name": "stdout",
     "output_type": "stream",
     "text": [
      "+-------+-------------------------------------------------------+\n",
      "|summary|Estimated incidence rate of new HIV infection per 1000 |\n",
      "+-------+-------------------------------------------------------+\n",
      "|  count|                                                   5040|\n",
      "|   mean|                                     3.7513968253968315|\n",
      "| stddev|                                      7.659773307462848|\n",
      "|    min|                                                   0.01|\n",
      "|    max|                                                  70.63|\n",
      "+-------+-------------------------------------------------------+\n",
      "\n"
     ]
    }
   ],
   "source": [
    "from pyspark.sql.functions import col\n",
    "df = df.withColumn('Estimated incidence rate of new HIV infection per 1000 ',\n",
    "        col('Estimated incidence rate of new HIV infection per 1000 ').cast('double'))\n",
    "df.select('Estimated incidence rate of new HIV infection per 1000 ').describe().show()"
   ]
  },
  {
   "cell_type": "code",
   "execution_count": 14,
   "metadata": {},
   "outputs": [],
   "source": [
    "# define method to check and visualise data\n",
    "from pyspark.sql.functions import col\n",
    "def check_status(field):\n",
    "    field_table=table[field]\n",
    "    field_table=pandas.to_numeric(field_table)\n",
    "    df2 = df.withColumn(field,\n",
    "        col(field).cast('double'))\n",
    "    df2.select(field).describe().show()\n",
    "    print('skewness: ', field_table.skew())\n",
    "    plt.hist(field_table)\n",
    "    return"
   ]
  },
  {
   "cell_type": "code",
   "execution_count": 15,
   "metadata": {},
   "outputs": [
    {
     "name": "stdout",
     "output_type": "stream",
     "text": [
      "+-------+-------------------------------------------------------+\n",
      "|summary|Estimated incidence rate of new HIV infection per 1000 |\n",
      "+-------+-------------------------------------------------------+\n",
      "|  count|                                                   5040|\n",
      "|   mean|                                     3.7513968253968315|\n",
      "| stddev|                                      7.659773307462848|\n",
      "|    min|                                                   0.01|\n",
      "|    max|                                                  70.63|\n",
      "+-------+-------------------------------------------------------+\n",
      "\n",
      "skewness:  4.365761162183181\n"
     ]
    },
    {
     "data": {
      "image/png": "[encoded data removed]",
      "text/plain": [
       "<Figure size 432x288 with 1 Axes>"
      ]
     },
     "metadata": {
      "needs_background": "light"
     },
     "output_type": "display_data"
    }
   ],
   "source": [
    "check_status('Estimated incidence rate of new HIV infection per 1000 ')"
   ]
  },
  {
   "cell_type": "code",
   "execution_count": 16,
   "metadata": {},
   "outputs": [
    {
     "name": "stdout",
     "output_type": "stream",
     "text": [
      "+-------+----------------------------------------------+\n",
      "|summary|Estimated number of annual AIDS related deaths|\n",
      "+-------+----------------------------------------------+\n",
      "|  count|                                          5160|\n",
      "|   mean|                             391.9496124031008|\n",
      "| stddev|                             517.7309304270339|\n",
      "|    min|                                         100.0|\n",
      "|    max|                                        3500.0|\n",
      "+-------+----------------------------------------------+\n",
      "\n",
      "skewness:  2.4343941287959097\n"
     ]
    },
    {
     "data": {
      "image/png": "[encoded data removed]",
      "text/plain": [
       "<Figure size 432x288 with 1 Axes>"
      ]
     },
     "metadata": {
      "needs_background": "light"
     },
     "output_type": "display_data"
    }
   ],
   "source": [
    "check_status('Estimated number of annual AIDS related deaths')"
   ]
  },
  {
   "cell_type": "code",
   "execution_count": 17,
   "metadata": {},
   "outputs": [
    {
     "name": "stdout",
     "output_type": "stream",
     "text": [
      "+-------+---------------------------------------------+\n",
      "|summary|Estimated number of annual new HIV infections|\n",
      "+-------+---------------------------------------------+\n",
      "|  count|                                         5040|\n",
      "|   mean|                           2777.3055555555557|\n",
      "| stddev|                            7655.704598615269|\n",
      "|    min|                                        100.0|\n",
      "|    max|                                      90000.0|\n",
      "+-------+---------------------------------------------+\n",
      "\n",
      "skewness:  7.231498716492041\n"
     ]
    },
    {
     "data": {
      "image/png": "[encoded data removed]",
      "text/plain": [
       "<Figure size 432x288 with 1 Axes>"
      ]
     },
     "metadata": {
      "needs_background": "light"
     },
     "output_type": "display_data"
    }
   ],
   "source": [
    "check_status('Estimated number of annual new HIV infections')"
   ]
  },
  {
   "cell_type": "code",
   "execution_count": 18,
   "metadata": {},
   "outputs": [
    {
     "data": {
      "text/plain": [
       "DataFrame[Sex: string, count: bigint]"
      ]
     },
     "execution_count": 18,
     "metadata": {},
     "output_type": "execute_result"
    }
   ],
   "source": [
    "#pie chart of male and female estimated incidence rate \n",
    "#count incidience rate grouped by sex field\n",
    "\n",
    "df.groupBy(\"Sex\").count()"
   ]
  },
  {
   "cell_type": "code",
   "execution_count": 20,
   "metadata": {},
   "outputs": [
    {
     "data": {
      "text/plain": [
       "<pyspark.sql.group.GroupedData at 0x7f782e7e6470>"
      ]
     },
     "execution_count": 20,
     "metadata": {},
     "output_type": "execute_result"
    }
   ],
   "source": [
    "df.groupBy('Sex')"
   ]
  },
  {
   "cell_type": "code",
   "execution_count": null,
   "metadata": {},
   "outputs": [],
   "source": [
    "# Using groupby() and count() count unqiue value in hiv incidence rate grouby sex\n",
    "df.groupBy(\"Sex\",\"Estimated incidence rate of new HIV infection per 1000 \").count().groupBy(\"Sex\").count().show()"
   ]
  },
  {
   "cell_type": "code",
   "execution_count": 93,
   "metadata": {},
   "outputs": [
    {
     "data": {
      "image/png": "[encoded data removed]",
      "text/plain": [
       "<Figure size 432x288 with 1 Axes>"
      ]
     },
     "metadata": {},
     "output_type": "display_data"
    }
   ],
   "source": [
    "#construct pie chart\n",
    "labels='Female','Male'\n",
    "sizes=[722,377]\n",
    "fig1, ax1 = plt.subplots()\n",
    "ax1.pie(sizes, explode=(0,0), labels=labels, autopct='%1.1f%%',\n",
    "        shadow=True, startangle=90)\n",
    "ax1.axis('equal')  # Equal aspect ratio ensures that pie is drawn as a circle.\n",
    "plt.show()"
   ]
  },
  {
   "cell_type": "code",
   "execution_count": 94,
   "metadata": {},
   "outputs": [
    {
     "name": "stdout",
     "output_type": "stream",
     "text": [
      "+---+-------+-------------+----+---+---+-------------------------------------------------------+----------------------------------------------+---------------------------------------------+\n",
      "| ID|Country|UNICEF Region|Year|Sex|Age|Estimated incidence rate of new HIV infection per 1000 |Estimated number of annual AIDS related deaths|Estimated number of annual new HIV infections|\n",
      "+---+-------+-------------+----+---+---+-------------------------------------------------------+----------------------------------------------+---------------------------------------------+\n",
      "|  0|      0|            0|   0|  0|  0|                                                    240|                                           120|                                          240|\n",
      "+---+-------+-------------+----+---+---+-------------------------------------------------------+----------------------------------------------+---------------------------------------------+\n",
      "\n"
     ]
    }
   ],
   "source": [
    "#check missing values\n",
    "from pyspark.sql.functions import col,isnan, when, count\n",
    "df.select([count(when(isnan(c) | col(c).isNull(), c)).alias(c) for c in df.columns]\n",
    "   ).show()"
   ]
  },
  {
   "cell_type": "code",
   "execution_count": 97,
   "metadata": {},
   "outputs": [],
   "source": [
    "df_nums=df.select('Estimated incidence rate of new HIV infection per 1000 ',\n",
    " 'Estimated number of annual AIDS related deaths',\n",
    " 'Estimated number of annual new HIV infections')"
   ]
  },
  {
   "cell_type": "code",
   "execution_count": 118,
   "metadata": {},
   "outputs": [],
   "source": [
    "from pyspark.sql.functions import col\n",
    "df_nums = df_nums.withColumn('Estimated incidence rate of new HIV infection per 1000 ',\n",
    "        col('Estimated incidence rate of new HIV infection per 1000 ').cast('double'))\n",
    "\n",
    "df_nums = df_nums.withColumn('Estimated number of annual AIDS related deaths',\n",
    "        col('Estimated number of annual AIDS related deaths').cast('double'))\n",
    "\n",
    "df_nums = df_nums.withColumn('Estimated number of annual new HIV infections',\n",
    "        col('Estimated number of annual new HIV infections').cast('double'))\n",
    "    \n",
    "    "
   ]
  },
  {
   "cell_type": "code",
   "execution_count": 121,
   "metadata": {},
   "outputs": [
    {
     "name": "stdout",
     "output_type": "stream",
     "text": [
      "Estimated incidence rate of new HIV infection per 1000  , double\n",
      "Estimated number of annual AIDS related deaths , double\n",
      "Estimated number of annual new HIV infections , double\n"
     ]
    }
   ],
   "source": [
    "for col in df_nums.dtypes:\n",
    "    print(col[0]+\" , \"+col[1])"
   ]
  },
  {
   "cell_type": "code",
   "execution_count": 174,
   "metadata": {},
   "outputs": [],
   "source": [
    "bounds = {\n",
    "    c: dict(\n",
    "        zip([\"q1\", \"q3\"], df.approxQuantile(c, [0.1, 0.9], 0))\n",
    "    )\n",
    "    for c in df_nums.columns\n",
    "}"
   ]
  },
  {
   "cell_type": "code",
   "execution_count": 175,
   "metadata": {},
   "outputs": [
    {
     "name": "stdout",
     "output_type": "stream",
     "text": [
      "{'Estimated incidence rate of new HIV infection per 1000 ': {'q1': 0.08, 'q3': 8.96, 'lower': -13.24, 'upper': 22.28}, 'Estimated number of annual AIDS related deaths': {'q1': 100.0, 'q3': 1200.0, 'lower': -1550.0, 'upper': 2850.0}, 'Estimated number of annual new HIV infections': {'q1': 100.0, 'q3': 7700.0, 'lower': -11300.0, 'upper': 19100.0}}\n"
     ]
    }
   ],
   "source": [
    "for c in bounds:\n",
    "    iqr = bounds[c]['q3'] - bounds[c]['q1']\n",
    "    bounds[c]['lower'] = bounds[c]['q1'] - (iqr * 1.5)\n",
    "    bounds[c]['upper'] = bounds[c]['q3'] + (iqr * 1.5)\n",
    "print(bounds)"
   ]
  },
  {
   "cell_type": "code",
   "execution_count": 176,
   "metadata": {},
   "outputs": [],
   "source": [
    "import pyspark.sql.functions as f\n",
    "df_nums2=df_nums.select(\n",
    "    \"*\",\n",
    "    *[\n",
    "        f.when(\n",
    "            f.col(c).between(bounds[c]['lower'], bounds[c]['upper']),\n",
    "            0\n",
    "        ).otherwise(1).alias(c+\"_outliers\") \n",
    "        for c in df_nums.columns\n",
    "    ]\n",
    ")"
   ]
  },
  {
   "cell_type": "code",
   "execution_count": 177,
   "metadata": {},
   "outputs": [
    {
     "data": {
      "text/plain": [
       "['Estimated incidence rate of new HIV infection per 1000 ',\n",
       " 'Estimated number of annual AIDS related deaths',\n",
       " 'Estimated number of annual new HIV infections',\n",
       " 'Estimated incidence rate of new HIV infection per 1000 _outliers',\n",
       " 'Estimated number of annual AIDS related deaths_outliers',\n",
       " 'Estimated number of annual new HIV infections_outliers']"
      ]
     },
     "execution_count": 177,
     "metadata": {},
     "output_type": "execute_result"
    }
   ],
   "source": [
    "df_nums2.columns"
   ]
  },
  {
   "cell_type": "code",
   "execution_count": 178,
   "metadata": {},
   "outputs": [
    {
     "data": {
      "text/plain": [
       "[Row(sum(Estimated incidence rate of new HIV infection per 1000 )=18907.04000000003, sum(Estimated number of annual AIDS related deaths)=2022460.0, sum(Estimated number of annual new HIV infections)=13997620.0, sum(Estimated incidence rate of new HIV infection per 1000 _outliers)=414, sum(Estimated number of annual AIDS related deaths_outliers)=146, sum(Estimated number of annual new HIV infections_outliers)=350)]"
      ]
     },
     "execution_count": 178,
     "metadata": {},
     "output_type": "execute_result"
    }
   ],
   "source": [
    "df_nums2.groupBy().sum().collect()"
   ]
  },
  {
   "cell_type": "code",
   "execution_count": 179,
   "metadata": {},
   "outputs": [
    {
     "name": "stdout",
     "output_type": "stream",
     "text": [
      "root\n",
      " |-- ID: string (nullable = true)\n",
      " |-- Country: string (nullable = true)\n",
      " |-- UNICEF Region: string (nullable = true)\n",
      " |-- Year: string (nullable = true)\n",
      " |-- Sex: string (nullable = true)\n",
      " |-- Age: string (nullable = true)\n",
      " |-- Estimated incidence rate of new HIV infection per 1000 : double (nullable = true)\n",
      " |-- Estimated number of annual AIDS related deaths: double (nullable = true)\n",
      " |-- Estimated number of annual new HIV infections: double (nullable = true)\n",
      "\n"
     ]
    }
   ],
   "source": [
    "df.printSchema()"
   ]
  },
  {
   "cell_type": "code",
   "execution_count": 182,
   "metadata": {},
   "outputs": [],
   "source": [
    "df=df.drop('ID','Age')"
   ]
  },
  {
   "cell_type": "code",
   "execution_count": 184,
   "metadata": {},
   "outputs": [
    {
     "data": {
      "text/plain": [
       "['Country',\n",
       " 'UNICEF Region',\n",
       " 'Year',\n",
       " 'Sex',\n",
       " 'Estimated incidence rate of new HIV infection per 1000 ',\n",
       " 'Estimated number of annual AIDS related deaths',\n",
       " 'Estimated number of annual new HIV infections']"
      ]
     },
     "execution_count": 184,
     "metadata": {},
     "output_type": "execute_result"
    }
   ],
   "source": [
    "df.columns"
   ]
  },
  {
   "cell_type": "code",
   "execution_count": 185,
   "metadata": {},
   "outputs": [],
   "source": [
    "from pyspark.sql.functions import col\n",
    "df = df.withColumn('Estimated incidence rate of new HIV infection per 1000 ',\n",
    "        col('Estimated incidence rate of new HIV infection per 1000 ').cast('double'))\n",
    "\n",
    "df = df.withColumn('Estimated number of annual AIDS related deaths',\n",
    "        col('Estimated number of annual AIDS related deaths').cast('double'))\n",
    "\n",
    "df = df.withColumn('Estimated number of annual new HIV infections',\n",
    "        col('Estimated number of annual new HIV infections').cast('double'))\n",
    "\n",
    "df = df.withColumn('Year',\n",
    "        col('Year').cast('int'))"
   ]
  },
  {
   "cell_type": "code",
   "execution_count": 186,
   "metadata": {},
   "outputs": [
    {
     "name": "stdout",
     "output_type": "stream",
     "text": [
      "root\n",
      " |-- Country: string (nullable = true)\n",
      " |-- UNICEF Region: string (nullable = true)\n",
      " |-- Year: integer (nullable = true)\n",
      " |-- Sex: string (nullable = true)\n",
      " |-- Estimated incidence rate of new HIV infection per 1000 : double (nullable = true)\n",
      " |-- Estimated number of annual AIDS related deaths: double (nullable = true)\n",
      " |-- Estimated number of annual new HIV infections: double (nullable = true)\n",
      "\n"
     ]
    }
   ],
   "source": [
    "df.printSchema()"
   ]
  },
  {
   "cell_type": "code",
   "execution_count": 187,
   "metadata": {},
   "outputs": [],
   "source": [
    "exclude = ['Country',\n",
    " 'UNICEF Region',\n",
    " 'Year',\n",
    " 'Sex',]"
   ]
  },
  {
   "cell_type": "code",
   "execution_count": 503,
   "metadata": {},
   "outputs": [],
   "source": [
    "from pyspark.sql import functions as F, Window\n",
    "df_fill_miss = df.select(\n",
    "    *(\n",
    "        F.coalesce(F.col(col), F.mean(col).over(Window.orderBy(F.lit(1)))).alias(col)\n",
    "        if col.lower() not in exclude\n",
    "        else F.col(col)\n",
    "        for col in df.columns\n",
    "    )\n",
    ")"
   ]
  },
  {
   "cell_type": "code",
   "execution_count": 196,
   "metadata": {},
   "outputs": [
    {
     "name": "stdout",
     "output_type": "stream",
     "text": [
      "+-------+--------+--------------------+-----------------+------+-------------------------------------------------------+----------------------------------------------+---------------------------------------------+\n",
      "|summary| Country|       UNICEF Region|             Year|   Sex|Estimated incidence rate of new HIV infection per 1000 |Estimated number of annual AIDS related deaths|Estimated number of annual new HIV infections|\n",
      "+-------+--------+--------------------+-----------------+------+-------------------------------------------------------+----------------------------------------------+---------------------------------------------+\n",
      "|  count|    5280|                5280|             5280|  5280|                                                   5280|                                          5280|                                         5280|\n",
      "|   mean|    null|                null|           2004.5|  null|                                     3.7513968253968457|                             391.9496124031004|                            2777.305555555564|\n",
      "| stddev|    null|                null|8.656261208920826|  null|                                      7.483629270571709|                            511.81268381964145|                            7479.654125694325|\n",
      "|    min|  Angola|Eastern and South...|           1990.0|Female|                                                   0.01|                                         100.0|                                        100.0|\n",
      "|    max|Zimbabwe|West and Central ...|           2019.0|  Male|                                                  70.63|                                        3500.0|                                      90000.0|\n",
      "+-------+--------+--------------------+-----------------+------+-------------------------------------------------------+----------------------------------------------+---------------------------------------------+\n",
      "\n"
     ]
    }
   ],
   "source": [
    "df_fill_miss.describe().show()"
   ]
  },
  {
   "cell_type": "code",
   "execution_count": 367,
   "metadata": {},
   "outputs": [],
   "source": [
    "from pyspark.sql.functions import mean as _mean, stddev as _stddev, col\n",
    "\n",
    "\n",
    "\n",
    "def get_mean_std(field):\n",
    "    df_stats = df_fill_miss.select(\n",
    "        _mean(col(field)).alias('mean'),\n",
    "        _stddev(col(field)).alias('std')\n",
    "    ).collect()\n",
    "\n",
    "    mean = df_stats[0]['mean']\n",
    "    std = df_stats[0]['std']\n",
    "    print(mean,std)\n",
    "    return mean, std\n",
    "    "
   ]
  },
  {
   "cell_type": "code",
   "execution_count": 235,
   "metadata": {},
   "outputs": [
    {
     "name": "stdout",
     "output_type": "stream",
     "text": [
      "2004.5 8.656261208920826\n"
     ]
    }
   ],
   "source": [
    "get_mean_std('Year')"
   ]
  },
  {
   "cell_type": "code",
   "execution_count": 366,
   "metadata": {},
   "outputs": [],
   "source": [
    "from pyspark.sql import functions as F, Window\n",
    "def replace_outliers(field):\n",
    "    mean, std=get_mean_std(field)\n",
    "    upper = mean + 2*std \n",
    "    lower = mean - 2*std\n",
    "\n",
    "    df2 = df_fill_miss.withColumn(\n",
    "        field, \n",
    "        F.when(\n",
    "            (df_fill_miss[field] > upper) | (df_fill_miss[field] < lower), \n",
    "            F.round(F.mean(field).over(Window.orderBy(F.lit(1)))).cast('double')\n",
    "            # or you can use \n",
    "            # F.round(F.lit(df_fill_miss.select(F.mean(F.col('a')).alias('mean')).collect()[0]['mean'])).cast('double')\n",
    "        ).otherwise(F.col(field))\n",
    "    )\n",
    "    df2.select(field).describe().show()\n",
    "    return df2"
   ]
  },
  {
   "cell_type": "code",
   "execution_count": 292,
   "metadata": {},
   "outputs": [
    {
     "name": "stdout",
     "output_type": "stream",
     "text": [
      "3.7513968253968457 7.483629270571709\n",
      "+-------+-------------------------------------------------------+\n",
      "|summary|Estimated incidence rate of new HIV infection per 1000 |\n",
      "+-------+-------------------------------------------------------+\n",
      "|  count|                                                   5280|\n",
      "|   mean|                                      2.523154401154415|\n",
      "| stddev|                                     3.2338179364408868|\n",
      "|    min|                                                   0.01|\n",
      "|    max|                                                  18.65|\n",
      "+-------+-------------------------------------------------------+\n",
      "\n",
      "391.9496124031004 511.81268381964145\n",
      "+-------+----------------------------------------------+\n",
      "|summary|Estimated number of annual AIDS related deaths|\n",
      "+-------+----------------------------------------------+\n",
      "|  count|                                          5280|\n",
      "|   mean|                             295.3890063424943|\n",
      "| stddev|                            298.18788066693713|\n",
      "|    min|                                         100.0|\n",
      "|    max|                                        1400.0|\n",
      "+-------+----------------------------------------------+\n",
      "\n",
      "2777.305555555564 7479.654125694325\n",
      "+-------+---------------------------------------------+\n",
      "|summary|Estimated number of annual new HIV infections|\n",
      "+-------+---------------------------------------------+\n",
      "|  count|                                         5280|\n",
      "|   mean|                           1880.5271464646546|\n",
      "| stddev|                           2883.7475369760023|\n",
      "|    min|                                        100.0|\n",
      "|    max|                                      17000.0|\n",
      "+-------+---------------------------------------------+\n",
      "\n"
     ]
    }
   ],
   "source": [
    "df_fill_miss=replace_outliers('Estimated incidence rate of new HIV infection per 1000 ')\n",
    "df_fill_miss=replace_outliers('Estimated number of annual AIDS related deaths')\n",
    "df_fill_miss=replace_outliers('Estimated number of annual new HIV infections')"
   ]
  },
  {
   "cell_type": "code",
   "execution_count": 293,
   "metadata": {},
   "outputs": [
    {
     "name": "stdout",
     "output_type": "stream",
     "text": [
      "+-------+--------+--------------------+-----------------+------+-------------------------------------------------------+----------------------------------------------+---------------------------------------------+\n",
      "|summary| Country|       UNICEF Region|             Year|   Sex|Estimated incidence rate of new HIV infection per 1000 |Estimated number of annual AIDS related deaths|Estimated number of annual new HIV infections|\n",
      "+-------+--------+--------------------+-----------------+------+-------------------------------------------------------+----------------------------------------------+---------------------------------------------+\n",
      "|  count|    5280|                5280|             5280|  5280|                                                   5280|                                          5280|                                         5280|\n",
      "|   mean|    null|                null|           2004.5|  null|                                      2.523154401154415|                             295.3890063424943|                           1880.5271464646546|\n",
      "| stddev|    null|                null|8.656261208920826|  null|                                     3.2338179364408868|                            298.18788066693713|                           2883.7475369760023|\n",
      "|    min|  Angola|Eastern and South...|           1990.0|Female|                                                   0.01|                                         100.0|                                        100.0|\n",
      "|    max|Zimbabwe|West and Central ...|           2019.0|  Male|                                                  18.65|                                        1400.0|                                      17000.0|\n",
      "+-------+--------+--------------------+-----------------+------+-------------------------------------------------------+----------------------------------------------+---------------------------------------------+\n",
      "\n"
     ]
    }
   ],
   "source": [
    "df_fill_miss.describe().show()"
   ]
  },
  {
   "cell_type": "code",
   "execution_count": 295,
   "metadata": {},
   "outputs": [
    {
     "name": "stdout",
     "output_type": "stream",
     "text": [
      "4844\n",
      "436\n"
     ]
    },
    {
     "data": {
      "image/png": "[encoded data removed]",
      "text/plain": [
       "<Figure size 432x288 with 1 Axes>"
      ]
     },
     "metadata": {},
     "output_type": "display_data"
    }
   ],
   "source": [
    "#data construction\n",
    "incidence_greater_than_OCEDRate=table.loc[table['Estimated incidence rate of new HIV infection per 1000 ']>=0.064]\n",
    "incidence_samller_than_OCEDRate=table.loc[table['Estimated incidence rate of new HIV infection per 1000 ']<0.064]\n",
    "greater_rate=incidence_greater_than_OCEDRate['Estimated incidence rate of new HIV infection per 1000 '].count()\n",
    "smaller_rate=incidence_samller_than_OCEDRate['Estimated incidence rate of new HIV infection per 1000 '].count()\n",
    "print(greater_rate)\n",
    "print(smaller_rate)\n",
    "labels1='Greater than 0.064','Smaller than 0.064'\n",
    "sizes1=[greater_rate,smaller_rate]\n",
    "fig2, ax2 = plt.subplots()\n",
    "ax2.pie(sizes1, explode=(0,0), labels=labels1, autopct='%1.1f%%',\n",
    "        shadow=True, startangle=90)\n",
    "ax2.axis('equal')  # Equal aspect ratio ensures that pie is drawn as a circle.\n",
    "plt.show()"
   ]
  },
  {
   "cell_type": "code",
   "execution_count": 296,
   "metadata": {},
   "outputs": [
    {
     "name": "stdout",
     "output_type": "stream",
     "text": [
      "+-------+--------+--------------------+-----------------+------+-------------------------------------------------------+----------------------------------------------+---------------------------------------------+\n",
      "|summary| Country|       UNICEF Region|             Year|   Sex|Estimated incidence rate of new HIV infection per 1000 |Estimated number of annual AIDS related deaths|Estimated number of annual new HIV infections|\n",
      "+-------+--------+--------------------+-----------------+------+-------------------------------------------------------+----------------------------------------------+---------------------------------------------+\n",
      "|  count|    5280|                5280|             5280|  5280|                                                   5280|                                          5280|                                         5280|\n",
      "|   mean|    null|                null|           2004.5|  null|                                      2.523154401154415|                             295.3890063424943|                           1880.5271464646546|\n",
      "| stddev|    null|                null|8.656261208920826|  null|                                     3.2338179364408868|                            298.18788066693713|                           2883.7475369760023|\n",
      "|    min|  Angola|Eastern and South...|           1990.0|Female|                                                   0.01|                                         100.0|                                        100.0|\n",
      "|    max|Zimbabwe|West and Central ...|           2019.0|  Male|                                                  18.65|                                        1400.0|                                      17000.0|\n",
      "+-------+--------+--------------------+-----------------+------+-------------------------------------------------------+----------------------------------------------+---------------------------------------------+\n",
      "\n"
     ]
    }
   ],
   "source": [
    "df_fill_miss.describe().show()"
   ]
  },
  {
   "cell_type": "code",
   "execution_count": 297,
   "metadata": {},
   "outputs": [],
   "source": [
    "df_new = spark.read.load('part_B.csv', format='csv',header='true')"
   ]
  },
  {
   "cell_type": "code",
   "execution_count": 298,
   "metadata": {},
   "outputs": [
    {
     "data": {
      "text/plain": [
       "['Country',\n",
       " 'UNICEF Region',\n",
       " 'Year',\n",
       " 'Sex',\n",
       " 'Age',\n",
       " 'Estimated number of people living with HIV',\n",
       " 'Estimated rate of annual AIDS related deaths per 100000']"
      ]
     },
     "execution_count": 298,
     "metadata": {},
     "output_type": "execute_result"
    }
   ],
   "source": [
    "df_new.columns"
   ]
  },
  {
   "cell_type": "code",
   "execution_count": 299,
   "metadata": {},
   "outputs": [
    {
     "name": "stdout",
     "output_type": "stream",
     "text": [
      "Country , string\n",
      "UNICEF Region , string\n",
      "Year , string\n",
      "Sex , string\n",
      "Age , string\n",
      "Estimated number of people living with HIV , string\n",
      "Estimated rate of annual AIDS related deaths per 100000 , string\n"
     ]
    }
   ],
   "source": [
    "for col in df_new.dtypes:\n",
    "    print(col[0]+\" , \"+col[1])"
   ]
  },
  {
   "cell_type": "code",
   "execution_count": 317,
   "metadata": {},
   "outputs": [],
   "source": [
    "#join two data frame\n",
    "df_join = df_fill_miss.join(df_new, ['Country',\n",
    " 'UNICEF Region',\n",
    " 'Year',\n",
    " 'Sex'])"
   ]
  },
  {
   "cell_type": "code",
   "execution_count": 318,
   "metadata": {},
   "outputs": [],
   "source": [
    "final_df=df_join.drop('Age')"
   ]
  },
  {
   "cell_type": "code",
   "execution_count": 319,
   "metadata": {},
   "outputs": [
    {
     "data": {
      "text/plain": [
       "['Country',\n",
       " 'UNICEF Region',\n",
       " 'Year',\n",
       " 'Sex',\n",
       " 'Estimated incidence rate of new HIV infection per 1000 ',\n",
       " 'Estimated number of annual AIDS related deaths',\n",
       " 'Estimated number of annual new HIV infections',\n",
       " 'Estimated number of people living with HIV',\n",
       " 'Estimated rate of annual AIDS related deaths per 100000']"
      ]
     },
     "execution_count": 319,
     "metadata": {},
     "output_type": "execute_result"
    }
   ],
   "source": [
    "final_df.columns"
   ]
  },
  {
   "cell_type": "code",
   "execution_count": 320,
   "metadata": {},
   "outputs": [
    {
     "name": "stdout",
     "output_type": "stream",
     "text": [
      "root\n",
      " |-- Country: string (nullable = true)\n",
      " |-- UNICEF Region: string (nullable = true)\n",
      " |-- Year: double (nullable = true)\n",
      " |-- Sex: string (nullable = true)\n",
      " |-- Estimated incidence rate of new HIV infection per 1000 : double (nullable = true)\n",
      " |-- Estimated number of annual AIDS related deaths: double (nullable = true)\n",
      " |-- Estimated number of annual new HIV infections: double (nullable = true)\n",
      " |-- Estimated number of people living with HIV: string (nullable = true)\n",
      " |-- Estimated rate of annual AIDS related deaths per 100000: string (nullable = true)\n",
      "\n"
     ]
    }
   ],
   "source": [
    "final_df.printSchema()"
   ]
  },
  {
   "cell_type": "code",
   "execution_count": 321,
   "metadata": {},
   "outputs": [],
   "source": [
    "from pyspark.sql.functions import col\n",
    "final_df = final_df.withColumn('Estimated number of people living with HIV',\n",
    "        col('Estimated number of people living with HIV').cast('double'))\n",
    "\n",
    "final_df = final_df.withColumn('Estimated rate of annual AIDS related deaths per 100000',\n",
    "        col('Estimated rate of annual AIDS related deaths per 100000').cast('double'))"
   ]
  },
  {
   "cell_type": "code",
   "execution_count": 356,
   "metadata": {},
   "outputs": [
    {
     "name": "stdout",
     "output_type": "stream",
     "text": [
      "root\n",
      " |-- Country: string (nullable = true)\n",
      " |-- UNICEF Region: string (nullable = true)\n",
      " |-- Year: double (nullable = true)\n",
      " |-- Sex: string (nullable = true)\n",
      " |-- Estimated incidence rate of new HIV infection per 1000 : double (nullable = true)\n",
      " |-- Estimated number of annual AIDS related deaths: double (nullable = true)\n",
      " |-- Estimated number of annual new HIV infections: double (nullable = true)\n",
      " |-- Estimated number of people living with HIV: double (nullable = true)\n",
      " |-- Estimated rate of annual AIDS related deaths per 100000: double (nullable = true)\n",
      "\n"
     ]
    }
   ],
   "source": [
    "final_df.printSchema()"
   ]
  },
  {
   "cell_type": "code",
   "execution_count": 357,
   "metadata": {},
   "outputs": [],
   "source": [
    "import pyspark.ml.feature as MF"
   ]
  },
  {
   "cell_type": "code",
   "execution_count": 504,
   "metadata": {},
   "outputs": [],
   "source": [
    "imputer = MF.Imputer(strategy='median', inputCols=['Estimated number of people living with HIV', 'Estimated rate of annual AIDS related deaths per 100000'], outputCols=['Estimated number of people living with HIV', 'Estimated rate of annual AIDS related deaths per 100000'])\n",
    "model = imputer.fit(final_df)\n",
    "final_df=model.transform(final_df)"
   ]
  },
  {
   "cell_type": "code",
   "execution_count": 362,
   "metadata": {},
   "outputs": [
    {
     "name": "stdout",
     "output_type": "stream",
     "text": [
      "+-------+--------+--------------------+-----------------+------+-------------------------------------------------------+----------------------------------------------+---------------------------------------------+------------------------------------------+-------------------------------------------------------+\n",
      "|summary| Country|       UNICEF Region|             Year|   Sex|Estimated incidence rate of new HIV infection per 1000 |Estimated number of annual AIDS related deaths|Estimated number of annual new HIV infections|Estimated number of people living with HIV|Estimated rate of annual AIDS related deaths per 100000|\n",
      "+-------+--------+--------------------+-----------------+------+-------------------------------------------------------+----------------------------------------------+---------------------------------------------+------------------------------------------+-------------------------------------------------------+\n",
      "|  count|    5280|                5280|             5280|  5280|                                                   5280|                                          5280|                                         5280|                                      5280|                                                   5280|\n",
      "|   mean|    null|                null|           2004.5|  null|                                      2.523154401154415|                             295.3890063424943|                           1880.5271464646546|                        13028.427434634332|                                     16.708713178294555|\n",
      "| stddev|    null|                null|8.656261208920826|  null|                                     3.2338179364408868|                            298.18788066693713|                           2883.7475369760023|                        27006.566427171118|                                     21.245453105049403|\n",
      "|    min|  Angola|Eastern and South...|           1990.0|Female|                                                   0.01|                                         100.0|                                        100.0|                                     100.0|                                                   0.01|\n",
      "|    max|Zimbabwe|West and Central ...|           2019.0|  Male|                                                  18.65|                                        1400.0|                                      17000.0|                                  250000.0|                                                 138.24|\n",
      "+-------+--------+--------------------+-----------------+------+-------------------------------------------------------+----------------------------------------------+---------------------------------------------+------------------------------------------+-------------------------------------------------------+\n",
      "\n"
     ]
    }
   ],
   "source": [
    "final_df.describe().show()"
   ]
  },
  {
   "cell_type": "code",
   "execution_count": 363,
   "metadata": {},
   "outputs": [
    {
     "data": {
      "text/plain": [
       "['Country',\n",
       " 'UNICEF Region',\n",
       " 'Year',\n",
       " 'Sex',\n",
       " 'Estimated incidence rate of new HIV infection per 1000 ',\n",
       " 'Estimated number of annual AIDS related deaths',\n",
       " 'Estimated number of annual new HIV infections',\n",
       " 'Estimated number of people living with HIV',\n",
       " 'Estimated rate of annual AIDS related deaths per 100000']"
      ]
     },
     "execution_count": 363,
     "metadata": {},
     "output_type": "execute_result"
    }
   ],
   "source": [
    "final_df.columns"
   ]
  },
  {
   "cell_type": "code",
   "execution_count": 365,
   "metadata": {},
   "outputs": [
    {
     "name": "stdout",
     "output_type": "stream",
     "text": [
      "+-------+------------------------------------------+\n",
      "|summary|Estimated number of people living with HIV|\n",
      "+-------+------------------------------------------+\n",
      "|  count|                                      5280|\n",
      "|   mean|                        13028.427434634332|\n",
      "| stddev|                        27006.566427171118|\n",
      "|    min|                                     100.0|\n",
      "|    max|                                  250000.0|\n",
      "+-------+------------------------------------------+\n",
      "\n",
      "+-------+-------------------------------------------------------+\n",
      "|summary|Estimated rate of annual AIDS related deaths per 100000|\n",
      "+-------+-------------------------------------------------------+\n",
      "|  count|                                                   5280|\n",
      "|   mean|                                     16.708713178294555|\n",
      "| stddev|                                     21.245453105049403|\n",
      "|    min|                                                   0.01|\n",
      "|    max|                                                 138.24|\n",
      "+-------+-------------------------------------------------------+\n",
      "\n"
     ]
    }
   ],
   "source": [
    "final_df.select('Estimated number of people living with HIV').describe().show()\n",
    "final_df.select('Estimated rate of annual AIDS related deaths per 100000').describe().show()"
   ]
  },
  {
   "cell_type": "code",
   "execution_count": 373,
   "metadata": {},
   "outputs": [],
   "source": [
    "from pyspark.sql.functions import mean as _mean, stddev as _stddev, col\n",
    "\n",
    "\n",
    "\n",
    "def get_mean_std2(field):\n",
    "    df_stats = final_df.select(\n",
    "        _mean(col(field)).alias('mean'),\n",
    "        _stddev(col(field)).alias('std')\n",
    "    ).collect()\n",
    "\n",
    "    mean = df_stats[0]['mean']\n",
    "    std = df_stats[0]['std']\n",
    "    print(mean,std)\n",
    "    return mean, std\n",
    "    "
   ]
  },
  {
   "cell_type": "code",
   "execution_count": 508,
   "metadata": {},
   "outputs": [],
   "source": [
    "from pyspark.sql import functions as F, Window\n",
    "def replace_outliers2(field):\n",
    "    mean, std=get_mean_std2(field)\n",
    "    upper = mean + 3*std \n",
    "    lower = 0\n",
    "\n",
    "    df2 = final_df.withColumn(\n",
    "        field, \n",
    "        F.when(\n",
    "            (final_df[field] > upper) | (final_df[field] < lower), \n",
    "            F.round(F.mean(field).over(Window.orderBy(F.lit(1)))).cast('double')\n",
    "        ).otherwise(F.col(field))\n",
    "    )\n",
    "    df2.select(field).describe().show()\n",
    "    return df2"
   ]
  },
  {
   "cell_type": "code",
   "execution_count": 377,
   "metadata": {},
   "outputs": [
    {
     "name": "stdout",
     "output_type": "stream",
     "text": [
      "13028.427434634332 27006.566427171118\n",
      "+-------+------------------------------------------+\n",
      "|summary|Estimated number of people living with HIV|\n",
      "+-------+------------------------------------------+\n",
      "|  count|                                      5280|\n",
      "|   mean|                          9807.60016190706|\n",
      "| stddev|                        14662.579816133431|\n",
      "|    min|                                     100.0|\n",
      "|    max|                                   67000.0|\n",
      "+-------+------------------------------------------+\n",
      "\n",
      "16.708713178294555 21.245453105049403\n",
      "+-------+-------------------------------------------------------+\n",
      "|summary|Estimated rate of annual AIDS related deaths per 100000|\n",
      "+-------+-------------------------------------------------------+\n",
      "|  count|                                                   5280|\n",
      "|   mean|                                      12.85911090556738|\n",
      "| stddev|                                     12.660770713506615|\n",
      "|    min|                                                   0.01|\n",
      "|    max|                                                  59.01|\n",
      "+-------+-------------------------------------------------------+\n",
      "\n"
     ]
    }
   ],
   "source": [
    "final_df=replace_outliers2('Estimated number of people living with HIV')\n",
    "final_df=replace_outliers2('Estimated rate of annual AIDS related deaths per 100000')"
   ]
  },
  {
   "cell_type": "code",
   "execution_count": 378,
   "metadata": {},
   "outputs": [],
   "source": [
    "table=final_df.toPandas()"
   ]
  },
  {
   "cell_type": "code",
   "execution_count": 381,
   "metadata": {},
   "outputs": [
    {
     "data": {
      "text/plain": [
       "(array([3534.,  624.,  252.,  158.,  202.,  166.,   98.,   78.,  108.,\n",
       "          60.]),\n",
       " array([  100.,  6790., 13480., 20170., 26860., 33550., 40240., 46930.,\n",
       "        53620., 60310., 67000.]),\n",
       " <a list of 10 Patch objects>)"
      ]
     },
     "execution_count": 381,
     "metadata": {},
     "output_type": "execute_result"
    },
    {
     "data": {
      "image/png": "[encoded data removed]",
      "text/plain": [
       "<Figure size 432x288 with 1 Axes>"
      ]
     },
     "metadata": {
      "needs_background": "light"
     },
     "output_type": "display_data"
    }
   ],
   "source": [
    "plt.hist(table['Estimated number of people living with HIV'])"
   ]
  },
  {
   "cell_type": "code",
   "execution_count": 382,
   "metadata": {},
   "outputs": [
    {
     "data": {
      "text/plain": [
       "(array([2018.,  902., 1050.,  498.,  254.,  176.,  128.,  102.,   90.,\n",
       "          62.]),\n",
       " array([1.000e-02, 5.910e+00, 1.181e+01, 1.771e+01, 2.361e+01, 2.951e+01,\n",
       "        3.541e+01, 4.131e+01, 4.721e+01, 5.311e+01, 5.901e+01]),\n",
       " <a list of 10 Patch objects>)"
      ]
     },
     "execution_count": 382,
     "metadata": {},
     "output_type": "execute_result"
    },
    {
     "data": {
      "image/png": "[encoded data removed]",
      "text/plain": [
       "<Figure size 432x288 with 1 Axes>"
      ]
     },
     "metadata": {
      "needs_background": "light"
     },
     "output_type": "display_data"
    }
   ],
   "source": [
    "plt.hist(table['Estimated rate of annual AIDS related deaths per 100000'])"
   ]
  },
  {
   "cell_type": "code",
   "execution_count": 384,
   "metadata": {},
   "outputs": [
    {
     "name": "stdout",
     "output_type": "stream",
     "text": [
      "root\n",
      " |-- Country: string (nullable = true)\n",
      " |-- UNICEF Region: string (nullable = true)\n",
      " |-- Year: double (nullable = true)\n",
      " |-- Sex: string (nullable = true)\n",
      " |-- Estimated incidence rate of new HIV infection per 1000 : double (nullable = true)\n",
      " |-- Estimated number of annual AIDS related deaths: double (nullable = true)\n",
      " |-- Estimated number of annual new HIV infections: double (nullable = true)\n",
      " |-- Estimated number of people living with HIV: double (nullable = true)\n",
      " |-- Estimated rate of annual AIDS related deaths per 100000: double (nullable = true)\n",
      "\n"
     ]
    },
    {
     "data": {
      "text/plain": [
       "['Country',\n",
       " 'UNICEF Region',\n",
       " 'Year',\n",
       " 'Sex',\n",
       " 'Estimated incidence rate of new HIV infection per 1000 ',\n",
       " 'Estimated number of annual AIDS related deaths',\n",
       " 'Estimated number of annual new HIV infections',\n",
       " 'Estimated number of people living with HIV',\n",
       " 'Estimated rate of annual AIDS related deaths per 100000']"
      ]
     },
     "execution_count": 384,
     "metadata": {},
     "output_type": "execute_result"
    }
   ],
   "source": [
    "final_df.printSchema()\n",
    "final_df.columns"
   ]
  },
  {
   "cell_type": "code",
   "execution_count": 388,
   "metadata": {},
   "outputs": [],
   "source": [
    "data = final_df.select(col('Country'),\n",
    "                       col(\"UNICEF Region\").alias(\"Region\"), \n",
    "                       col('Year'),\n",
    "                       col('Sex'),\n",
    "                           col(\"Estimated incidence rate of new HIV infection per 1000 \").alias(\"Estimated new HIV incidence rate per 1000\"),\n",
    "                          col(\"Estimated number of annual AIDS related deaths\").alias(\"Estimated annual AIDS related death number\"),\n",
    "                          col(\"Estimated number of annual new HIV infections\").alias(\"Estimated annual new HIV number\"),\n",
    "                          col(\"Estimated rate of annual AIDS related deaths per 100000\").alias(\"Estimated annual AID related deaths rate per 100000\"),\n",
    "                       col('Estimated number of people living with HIV')\n",
    "                      )"
   ]
  },
  {
   "cell_type": "code",
   "execution_count": 389,
   "metadata": {},
   "outputs": [
    {
     "name": "stdout",
     "output_type": "stream",
     "text": [
      "root\n",
      " |-- Country: string (nullable = true)\n",
      " |-- Region: string (nullable = true)\n",
      " |-- Year: double (nullable = true)\n",
      " |-- Sex: string (nullable = true)\n",
      " |-- Estimated new HIV incidence rate per 1000: double (nullable = true)\n",
      " |-- Estimated annual AIDS related death number: double (nullable = true)\n",
      " |-- Estimated annual new HIV number: double (nullable = true)\n",
      " |-- Estimated annual AID related deaths rate per 100000: double (nullable = true)\n",
      " |-- Estimated number of people living with HIV: double (nullable = true)\n",
      "\n"
     ]
    }
   ],
   "source": [
    "data.printSchema()"
   ]
  },
  {
   "cell_type": "code",
   "execution_count": 390,
   "metadata": {},
   "outputs": [],
   "source": [
    "data=data.sort(\"Year\")"
   ]
  },
  {
   "cell_type": "code",
   "execution_count": 391,
   "metadata": {},
   "outputs": [
    {
     "name": "stdout",
     "output_type": "stream",
     "text": [
      "+--------------------+--------------------+------+------+-----------------------------------------+------------------------------------------+-------------------------------+---------------------------------------------------+------------------------------------------+\n",
      "|             Country|              Region|  Year|   Sex|Estimated new HIV incidence rate per 1000|Estimated annual AIDS related death number|Estimated annual new HIV number|Estimated annual AID related deaths rate per 100000|Estimated number of people living with HIV|\n",
      "+--------------------+--------------------+------+------+-----------------------------------------+------------------------------------------+-------------------------------+---------------------------------------------------+------------------------------------------+\n",
      "|       C?te d'Ivoire|West and Central ...|1990.0|Female|                                     7.81|                                     100.0|                         4400.0|                                               3.83|                                    9400.0|\n",
      "|             Eritrea|Eastern and South...|1990.0|Female|                                     2.29|                                     100.0|                          500.0|                                                1.2|                                     520.0|\n",
      "|       C?te d'Ivoire|West and Central ...|1990.0|  Male|                                     0.46|                                     100.0|                          500.0|                                               0.23|                                     500.0|\n",
      "|               Benin|West and Central ...|1990.0|Female|                                     0.52|                                     100.0|                          200.0|                                               0.01|                                     500.0|\n",
      "|              Angola|Eastern and South...|1990.0|Female|                                     0.64|                                     100.0|                          500.0|                                               0.36|                                     860.0|\n",
      "|             Burundi|Eastern and South...|1990.0|Female|                                      7.9|                                     100.0|                         2000.0|                                               5.11|                                    5000.0|\n",
      "|        Burkina Faso|West and Central ...|1990.0|Female|                                     5.38|                                     100.0|                         2500.0|                                                4.2|                                    6600.0|\n",
      "|        Burkina Faso|West and Central ...|1990.0|  Male|                                     2.39|                                     100.0|                         1100.0|                                               1.81|                                    2900.0|\n",
      "|Central African R...|West and Central ...|1990.0|Female|                                     8.35|                                     100.0|                         1200.0|                                               2.88|                                    2200.0|\n",
      "|Central African R...|West and Central ...|1990.0|  Male|                                      3.9|                                     100.0|                          550.0|                                               1.29|                                    1000.0|\n",
      "|               Benin|West and Central ...|1990.0|  Male|                                     0.27|                                     100.0|                          100.0|                                               0.01|                                     200.0|\n",
      "|             Burundi|Eastern and South...|1990.0|  Male|                                     1.79|                                     100.0|                          500.0|                                                0.7|                                     820.0|\n",
      "|              Angola|Eastern and South...|1990.0|  Male|                                     0.15|                                     100.0|                          100.0|                                               0.07|                                     200.0|\n",
      "|            Cameroon|West and Central ...|1990.0|Female|                                     2.95|                                     100.0|                         1800.0|                                                1.2|                                    3500.0|\n",
      "|            Cameroon|West and Central ...|1990.0|  Male|                                     0.54|                                     100.0|                          500.0|                                               0.22|                                     590.0|\n",
      "|Democratic Republ...|West and Central ...|1990.0|Female|                                     3.59|                                     200.0|                         7900.0|                                               3.05|                                   20000.0|\n",
      "|Democratic Republ...|West and Central ...|1990.0|  Male|                                     0.77|                                     100.0|                         1700.0|                                               1.12|                                    4600.0|\n",
      "|               Congo|West and Central ...|1990.0|Female|                                    10.42|                                     100.0|                         1300.0|                                               6.68|                                    3300.0|\n",
      "|               Congo|West and Central ...|1990.0|  Male|                                     1.58|                                     100.0|                          500.0|                                                0.7|                                     500.0|\n",
      "|            Djibouti|Eastern and South...|1990.0|Female|                                     0.31|                                     100.0|                          100.0|                                               0.01|                                     100.0|\n",
      "+--------------------+--------------------+------+------+-----------------------------------------+------------------------------------------+-------------------------------+---------------------------------------------------+------------------------------------------+\n",
      "only showing top 20 rows\n",
      "\n"
     ]
    }
   ],
   "source": [
    "data.show(20)"
   ]
  },
  {
   "cell_type": "code",
   "execution_count": 392,
   "metadata": {},
   "outputs": [
    {
     "data": {
      "text/plain": [
       "2640"
      ]
     },
     "execution_count": 392,
     "metadata": {},
     "output_type": "execute_result"
    }
   ],
   "source": [
    "data.distinct().count()"
   ]
  },
  {
   "cell_type": "code",
   "execution_count": 393,
   "metadata": {},
   "outputs": [],
   "source": [
    "data=data.distinct()\n"
   ]
  },
  {
   "cell_type": "code",
   "execution_count": 395,
   "metadata": {},
   "outputs": [
    {
     "data": {
      "text/plain": [
       "['Country',\n",
       " 'Region',\n",
       " 'Year',\n",
       " 'Sex',\n",
       " 'Estimated new HIV incidence rate per 1000',\n",
       " 'Estimated annual AIDS related death number',\n",
       " 'Estimated annual new HIV number',\n",
       " 'Estimated annual AID related deaths rate per 100000',\n",
       " 'Estimated number of people living with HIV']"
      ]
     },
     "execution_count": 395,
     "metadata": {},
     "output_type": "execute_result"
    }
   ],
   "source": [
    "from pyspark.ml.feature import StringIndexer\n",
    "data.columns"
   ]
  },
  {
   "cell_type": "code",
   "execution_count": 397,
   "metadata": {},
   "outputs": [],
   "source": [
    "indexer = StringIndexer(inputCol='Country', outputCol='Country_code')\n",
    "indexer_fitted = indexer.fit(data)\n",
    "df_indexed = indexer_fitted.transform(data)\n",
    "\n",
    "indexer2 = StringIndexer(inputCol='Region', outputCol='Region_code')\n",
    "indexer_fitted2 = indexer2.fit(df_indexed)\n",
    "df_indexed2 = indexer_fitted2.transform(df_indexed)\n",
    "\n",
    "indexer3 = StringIndexer(inputCol='Sex', outputCol='Sex_code')\n",
    "indexer_fitted3 = indexer3.fit(df_indexed2)\n",
    "df_indexed3 = indexer_fitted3.transform(df_indexed2)"
   ]
  },
  {
   "cell_type": "code",
   "execution_count": 399,
   "metadata": {},
   "outputs": [
    {
     "data": {
      "text/plain": [
       "['Country',\n",
       " 'Region',\n",
       " 'Year',\n",
       " 'Sex',\n",
       " 'Estimated new HIV incidence rate per 1000',\n",
       " 'Estimated annual AIDS related death number',\n",
       " 'Estimated annual new HIV number',\n",
       " 'Estimated annual AID related deaths rate per 100000',\n",
       " 'Estimated number of people living with HIV',\n",
       " 'Country_code',\n",
       " 'Region_code',\n",
       " 'Sex_code']"
      ]
     },
     "execution_count": 399,
     "metadata": {},
     "output_type": "execute_result"
    }
   ],
   "source": [
    "df_indexed3.columns"
   ]
  },
  {
   "cell_type": "code",
   "execution_count": 402,
   "metadata": {},
   "outputs": [],
   "source": [
    "data_indexed = df_indexed3.drop('Country','Region','Sex')"
   ]
  },
  {
   "cell_type": "code",
   "execution_count": 404,
   "metadata": {},
   "outputs": [
    {
     "name": "stdout",
     "output_type": "stream",
     "text": [
      "root\n",
      " |-- Year: double (nullable = true)\n",
      " |-- Estimated new HIV incidence rate per 1000: double (nullable = true)\n",
      " |-- Estimated annual AIDS related death number: double (nullable = true)\n",
      " |-- Estimated annual new HIV number: double (nullable = true)\n",
      " |-- Estimated annual AID related deaths rate per 100000: double (nullable = true)\n",
      " |-- Estimated number of people living with HIV: double (nullable = true)\n",
      " |-- Country_code: double (nullable = false)\n",
      " |-- Region_code: double (nullable = false)\n",
      " |-- Sex_code: double (nullable = false)\n",
      "\n"
     ]
    }
   ],
   "source": [
    "data_indexed.printSchema()"
   ]
  },
  {
   "cell_type": "code",
   "execution_count": 405,
   "metadata": {},
   "outputs": [],
   "source": [
    "feature_table = data_indexed.toPandas()"
   ]
  },
  {
   "cell_type": "code",
   "execution_count": 407,
   "metadata": {},
   "outputs": [
    {
     "data": {
      "image/png": "[encoded data removed]",
      "text/plain": [
       "<Figure size 864x720 with 2 Axes>"
      ]
     },
     "metadata": {
      "needs_background": "light"
     },
     "output_type": "display_data"
    },
    {
     "data": {
      "text/plain": [
       "Year                                                   0.165562\n",
       "Estimated new HIV incidence rate per 1000              1.000000\n",
       "Estimated annual AIDS related death number             0.151876\n",
       "Estimated annual new HIV number                        0.563753\n",
       "Estimated number of people living with HIV             0.371710\n",
       "Estimated annual AID related deaths rate per 100000    0.259627\n",
       "Country_code                                           0.201783\n",
       "Region_code                                            0.221008\n",
       "Sex_code                                               0.337371\n",
       "Name: Estimated new HIV incidence rate per 1000, dtype: float64"
      ]
     },
     "execution_count": 407,
     "metadata": {},
     "output_type": "execute_result"
    }
   ],
   "source": [
    "import seaborn as sns\n",
    "num = feature_table[['Year', 'Estimated new HIV incidence rate per 1000',\n",
    "       'Estimated annual AIDS related death number',\n",
    "       'Estimated annual new HIV number',\n",
    "       'Estimated number of people living with HIV',\n",
    "       'Estimated annual AID related deaths rate per 100000', 'Country_code',\n",
    "       'Region_code', 'Sex_code']]\n",
    "plt.figure(figsize=(12,10))\n",
    "cor = num.corr()\n",
    "sns.heatmap(cor, annot=True, cmap=plt.cm.Reds)\n",
    "plt.show()\n",
    "#Correlation with output variable\n",
    "cor_target = abs(cor[\"Estimated new HIV incidence rate per 1000\"])\n",
    "#Selecting highly correlated features\n",
    "relevant_features = cor_target[cor_target>0.1]\n",
    "relevant_features"
   ]
  },
  {
   "cell_type": "code",
   "execution_count": 408,
   "metadata": {},
   "outputs": [
    {
     "data": {
      "image/png": "[encoded data removed]",
      "text/plain": [
       "<Figure size 432x288 with 1 Axes>"
      ]
     },
     "metadata": {
      "needs_background": "light"
     },
     "output_type": "display_data"
    }
   ],
   "source": [
    "#data projection, distribute year into two groups\n",
    "year_before_2005= feature_table[feature_table['Year']<2005]\n",
    "year_after_2005 = feature_table[feature_table['Year']>=2005]\n",
    "year_distribution = pandas.DataFrame({'Year distribution':['year_before_2005','year_after_2005'],'Count':[year_before_2005.shape[0],year_after_2005.shape[0]]})\n",
    "ax = year_distribution.plot.bar(x='Year distribution', y='Count', rot=0)"
   ]
  },
  {
   "cell_type": "code",
   "execution_count": 409,
   "metadata": {},
   "outputs": [
    {
     "data": {
      "text/plain": [
       "['Country',\n",
       " 'Region',\n",
       " 'Year',\n",
       " 'Sex',\n",
       " 'Estimated new HIV incidence rate per 1000',\n",
       " 'Estimated annual AIDS related death number',\n",
       " 'Estimated annual new HIV number',\n",
       " 'Estimated annual AID related deaths rate per 100000',\n",
       " 'Estimated number of people living with HIV',\n",
       " 'Country_code',\n",
       " 'Region_code',\n",
       " 'Sex_code']"
      ]
     },
     "execution_count": 409,
     "metadata": {},
     "output_type": "execute_result"
    }
   ],
   "source": [
    "df_indexed3.columns"
   ]
  },
  {
   "cell_type": "code",
   "execution_count": 411,
   "metadata": {},
   "outputs": [],
   "source": [
    "female_df=df_indexed3.filter(df_indexed3.Sex == 'Female')\n",
    "male_df=df_indexed3.filter(df_indexed3.Sex == 'Male')"
   ]
  },
  {
   "cell_type": "code",
   "execution_count": 415,
   "metadata": {},
   "outputs": [
    {
     "data": {
      "text/plain": [
       "1320"
      ]
     },
     "execution_count": 415,
     "metadata": {},
     "output_type": "execute_result"
    }
   ],
   "source": [
    "female_df.count()"
   ]
  },
  {
   "cell_type": "code",
   "execution_count": 416,
   "metadata": {},
   "outputs": [
    {
     "data": {
      "text/plain": [
       "1320"
      ]
     },
     "execution_count": 416,
     "metadata": {},
     "output_type": "execute_result"
    }
   ],
   "source": [
    "male_df.count()"
   ]
  },
  {
   "cell_type": "code",
   "execution_count": 417,
   "metadata": {},
   "outputs": [
    {
     "name": "stdout",
     "output_type": "stream",
     "text": [
      "root\n",
      " |-- Country: string (nullable = true)\n",
      " |-- Region: string (nullable = true)\n",
      " |-- Year: double (nullable = true)\n",
      " |-- Sex: string (nullable = true)\n",
      " |-- Estimated new HIV incidence rate per 1000: double (nullable = true)\n",
      " |-- Estimated annual AIDS related death number: double (nullable = true)\n",
      " |-- Estimated annual new HIV number: double (nullable = true)\n",
      " |-- Estimated annual AID related deaths rate per 100000: double (nullable = true)\n",
      " |-- Estimated number of people living with HIV: double (nullable = true)\n",
      " |-- Country_code: double (nullable = false)\n",
      " |-- Region_code: double (nullable = false)\n",
      " |-- Sex_code: double (nullable = false)\n",
      "\n"
     ]
    }
   ],
   "source": [
    "female_df.printSchema()"
   ]
  },
  {
   "cell_type": "code",
   "execution_count": 418,
   "metadata": {},
   "outputs": [
    {
     "name": "stdout",
     "output_type": "stream",
     "text": [
      "root\n",
      " |-- Country: string (nullable = true)\n",
      " |-- Region: string (nullable = true)\n",
      " |-- Year: double (nullable = true)\n",
      " |-- Sex: string (nullable = true)\n",
      " |-- Estimated new HIV incidence rate per 1000: double (nullable = true)\n",
      " |-- Estimated annual AIDS related death number: double (nullable = true)\n",
      " |-- Estimated annual new HIV number: double (nullable = true)\n",
      " |-- Estimated annual AID related deaths rate per 100000: double (nullable = true)\n",
      " |-- Estimated number of people living with HIV: double (nullable = true)\n",
      " |-- Country_code: double (nullable = false)\n",
      " |-- Region_code: double (nullable = false)\n",
      " |-- Sex_code: double (nullable = false)\n",
      "\n"
     ]
    }
   ],
   "source": [
    "male_df.printSchema()"
   ]
  },
  {
   "cell_type": "code",
   "execution_count": 421,
   "metadata": {},
   "outputs": [
    {
     "data": {
      "text/plain": [
       "[Row(Country='Angola', Country_code=5.0),\n",
       " Row(Country='Burundi', Country_code=29.0),\n",
       " Row(Country='Benin', Country_code=12.0),\n",
       " Row(Country='Burkina Faso', Country_code=40.0),\n",
       " Row(Country='Central African Republic', Country_code=41.0),\n",
       " Row(Country=\"C?te d'Ivoire\", Country_code=25.0),\n",
       " Row(Country='Cameroon', Country_code=27.0),\n",
       " Row(Country='Democratic Republic of the Congo', Country_code=14.0),\n",
       " Row(Country='Congo', Country_code=22.0),\n",
       " Row(Country='Djibouti', Country_code=15.0),\n",
       " Row(Country='Eritrea', Country_code=6.0),\n",
       " Row(Country='Ethiopia', Country_code=35.0),\n",
       " Row(Country='Gabon', Country_code=1.0),\n",
       " Row(Country='Ghana', Country_code=23.0),\n",
       " Row(Country='Guinea', Country_code=43.0),\n",
       " Row(Country='Gambia', Country_code=28.0),\n",
       " Row(Country='Guinea-Bissau', Country_code=31.0),\n",
       " Row(Country='Equatorial Guinea', Country_code=17.0),\n",
       " Row(Country='Kenya', Country_code=21.0),\n",
       " Row(Country='Liberia', Country_code=19.0),\n",
       " Row(Country='Lesotho', Country_code=42.0),\n",
       " Row(Country='Madagascar', Country_code=4.0),\n",
       " Row(Country='Mali', Country_code=24.0),\n",
       " Row(Country='Mozambique', Country_code=39.0),\n",
       " Row(Country='Mauritania', Country_code=38.0),\n",
       " Row(Country='Mauritius', Country_code=13.0),\n",
       " Row(Country='Malawi', Country_code=32.0),\n",
       " Row(Country='Namibia', Country_code=9.0),\n",
       " Row(Country='Niger', Country_code=7.0),\n",
       " Row(Country='Nigeria', Country_code=11.0),\n",
       " Row(Country='Rwanda', Country_code=8.0),\n",
       " Row(Country='Sudan', Country_code=36.0),\n",
       " Row(Country='Senegal', Country_code=20.0),\n",
       " Row(Country='Sierra Leone', Country_code=16.0),\n",
       " Row(Country='Somalia', Country_code=3.0),\n",
       " Row(Country='South Sudan', Country_code=0.0),\n",
       " Row(Country='Eswatini', Country_code=2.0),\n",
       " Row(Country='Chad', Country_code=34.0),\n",
       " Row(Country='Togo', Country_code=10.0),\n",
       " Row(Country='United Republic of Tanzania', Country_code=30.0),\n",
       " Row(Country='Uganda', Country_code=37.0),\n",
       " Row(Country='South Africa', Country_code=18.0),\n",
       " Row(Country='Zambia', Country_code=26.0),\n",
       " Row(Country='Zimbabwe', Country_code=33.0)]"
      ]
     },
     "execution_count": 421,
     "metadata": {},
     "output_type": "execute_result"
    }
   ],
   "source": [
    "female_df.select('Country','Country_code').distinct().collect()"
   ]
  },
  {
   "cell_type": "code",
   "execution_count": 422,
   "metadata": {},
   "outputs": [
    {
     "data": {
      "text/plain": [
       "[Row(Region='Eastern and Southern Africa', Region_code=0.0),\n",
       " Row(Region='West and Central Africa', Region_code=1.0)]"
      ]
     },
     "execution_count": 422,
     "metadata": {},
     "output_type": "execute_result"
    }
   ],
   "source": [
    "female_df.select('Region','Region_code').distinct().collect()"
   ]
  },
  {
   "cell_type": "code",
   "execution_count": 426,
   "metadata": {},
   "outputs": [
    {
     "data": {
      "text/plain": [
       "[Row(Sex='Female', Sex_code=1.0)]"
      ]
     },
     "execution_count": 426,
     "metadata": {},
     "output_type": "execute_result"
    }
   ],
   "source": [
    "female_df.select('Sex','Sex_code').distinct().collect()"
   ]
  },
  {
   "cell_type": "code",
   "execution_count": 427,
   "metadata": {},
   "outputs": [
    {
     "data": {
      "text/plain": [
       "[Row(Sex='Male', Sex_code=0.0)]"
      ]
     },
     "execution_count": 427,
     "metadata": {},
     "output_type": "execute_result"
    }
   ],
   "source": [
    "male_df.select('Sex','Sex_code').distinct().collect()"
   ]
  },
  {
   "cell_type": "code",
   "execution_count": 428,
   "metadata": {},
   "outputs": [],
   "source": [
    "# Import VectorAssembler and Vectors\n",
    "from pyspark.ml.linalg import Vectors\n",
    "from pyspark.ml.feature import VectorAssembler"
   ]
  },
  {
   "cell_type": "code",
   "execution_count": 429,
   "metadata": {},
   "outputs": [],
   "source": [
    "# The input columns are the feature column names, and the output column is what you'd like the new column to be named. \n",
    "assembler = VectorAssembler(\n",
    "    inputCols=['Estimated annual AIDS related death number',\n",
    " 'Estimated annual new HIV number',\n",
    " 'Estimated annual AID related deaths rate per 100000',\n",
    " 'Estimated number of people living with HIV',\n",
    " 'Country_code',\n",
    " 'Region_code',\n",
    " 'Sex_code', 'Year'],\n",
    "    outputCol=\"features\")"
   ]
  },
  {
   "cell_type": "code",
   "execution_count": 431,
   "metadata": {},
   "outputs": [],
   "source": [
    "female_output=assembler.transform(female_df)"
   ]
  },
  {
   "cell_type": "code",
   "execution_count": 432,
   "metadata": {},
   "outputs": [],
   "source": [
    "male_output=assembler.transform(male_df)"
   ]
  },
  {
   "cell_type": "code",
   "execution_count": 434,
   "metadata": {},
   "outputs": [
    {
     "data": {
      "text/plain": [
       "[Row(Country='Angola', Region='Eastern and Southern Africa', Year=1990.0, Sex='Male', Estimated new HIV incidence rate per 1000=0.15, Estimated annual AIDS related death number=100.0, Estimated annual new HIV number=100.0, Estimated annual AID related deaths rate per 100000=0.07, Estimated number of people living with HIV=200.0, Country_code=5.0, Region_code=0.0, Sex_code=0.0, features=DenseVector([100.0, 100.0, 0.07, 200.0, 5.0, 0.0, 0.0, 1990.0]))]"
      ]
     },
     "execution_count": 434,
     "metadata": {},
     "output_type": "execute_result"
    }
   ],
   "source": [
    "male_output.head(1)"
   ]
  },
  {
   "cell_type": "code",
   "execution_count": 436,
   "metadata": {},
   "outputs": [],
   "source": [
    "female_final_data=female_output.select('features','Estimated new HIV incidence rate per 1000')\n",
    "male_final_data=male_output.select('features','Estimated new HIV incidence rate per 1000')"
   ]
  },
  {
   "cell_type": "code",
   "execution_count": 437,
   "metadata": {},
   "outputs": [],
   "source": [
    "from pyspark.ml.regression import LinearRegression\n",
    "m_lr = LinearRegression(labelCol='Estimated new HIV incidence rate per 1000')\n",
    "f_lr = LinearRegression(labelCol='Estimated new HIV incidence rate per 1000')"
   ]
  },
  {
   "cell_type": "code",
   "execution_count": 440,
   "metadata": {},
   "outputs": [],
   "source": [
    "# Fit the model to the data.\n",
    "f_lrModel = f_lr.fit(female_final_data)\n",
    "m_lrModel = m_lr.fit(male_final_data)"
   ]
  },
  {
   "cell_type": "code",
   "execution_count": 441,
   "metadata": {},
   "outputs": [
    {
     "name": "stdout",
     "output_type": "stream",
     "text": [
      " Female Coefficients: [-0.001323093620833819,0.0004197585948684455,0.08574363487162524,4.742787053531592e-06,0.035631154490650935,-0.6234748246055235,0.0,-0.07835392956180073] Intercept: 158.25346122224943\n",
      "Male Coefficients: [-0.0012382304563919614,0.0006114789721220333,0.02625020395589672,-1.4298258565299445e-05,0.019071250371123952,-0.7351931837068924,0.0,-0.040548372829895735] Intercept: 82.16606015756447\n"
     ]
    }
   ],
   "source": [
    "# Print the coefficients and intercept for linear regression.\n",
    "print(\" Female Coefficients: {} Intercept: {}\".format(f_lrModel.coefficients,f_lrModel.intercept))\n",
    "print(\"Male Coefficients: {} Intercept: {}\".format(m_lrModel.coefficients,m_lrModel.intercept))"
   ]
  },
  {
   "cell_type": "code",
   "execution_count": 442,
   "metadata": {},
   "outputs": [],
   "source": [
    "from sklearn import linear_model\n",
    "def build_linear_model(X_train,y_train,X_test,y_test):\n",
    "    ols = linear_model.LinearRegression()\n",
    "    model = ols.fit(X_train, y_train)\n",
    "    print(model.coef_)\n",
    "    print(model.intercept_)\n",
    "    \n",
    "    \n",
    "    y_pred=model.predict(X_test)\n",
    "    plt.figure(figsize=(15,10))\n",
    "    plt.scatter(y_test,y_pred)\n",
    "    plt.xlabel(\"Actual\")\n",
    "    plt.ylabel('Predicted')\n",
    "    plt.title(\"Actual vs Predicted\")\n",
    "    return y_test,y_pred\n"
   ]
  },
  {
   "cell_type": "code",
   "execution_count": 443,
   "metadata": {},
   "outputs": [],
   "source": [
    "# Create your first MLP in Keras\n",
    "from keras.models import Sequential\n",
    "from keras.layers import Dense\n",
    "from ann_visualizer.visualize import ann_viz;\n",
    "# split into input (X) and output (Y) variables\n",
    "def build_neural_network(x,y):\n",
    "    X = x\n",
    "    Y = y\n",
    "    # create model\n",
    "    # create ANN model\n",
    "    model = Sequential()\n",
    "     \n",
    "    # Defining the Input layer and FIRST hidden layer, both are same!\n",
    "    model.add(Dense(units=8, input_dim=8, kernel_initializer='normal', activation='relu'))\n",
    "     \n",
    "    # Defining the Second layer of the model\n",
    "    # after the first layer we don't have to specify input_dim as keras configure it automatically\n",
    "    model.add(Dense(units=8, kernel_initializer='normal', activation='tanh'))\n",
    "     \n",
    "    # The output neuron is a single fully connected node \n",
    "    # Since we will be predicting a single number\n",
    "    model.add(Dense(1, kernel_initializer='normal'))\n",
    "     \n",
    "    # Compiling the model\n",
    "    model.compile(loss='mean_squared_error', optimizer='adam')\n",
    "     \n",
    "    # Fitting the ANN to the Training set\n",
    "    model.fit(X, Y ,batch_size = 20, epochs = 50, verbose=1)\n",
    "    \n",
    "    ann_viz(model, title=\"Estimated new HIV incidence rate-female neural network\")\n",
    "    return"
   ]
  },
  {
   "cell_type": "code",
   "execution_count": 477,
   "metadata": {},
   "outputs": [],
   "source": [
    "#find the best batch size and epoch for neural network\n",
    "def FunctionFindBestParams(X_train, y_train, X_test, y_test):\n",
    "    \n",
    "    # Defining the list of hyper parameters to try\n",
    "    batch_size_list=[5, 10, 15, 20]\n",
    "    epoch_list  =   [5, 10, 50, 100]\n",
    "    \n",
    "\n",
    "    SearchResultsData=pandas.DataFrame(columns=['TrialNumber', 'Parameters', 'Accuracy'],dtype=object)\n",
    "    \n",
    "    # initializing the trials\n",
    "    TrialNumber=0\n",
    "    for batch_size_trial in batch_size_list:\n",
    "        for epochs_trial in epoch_list:\n",
    "            TrialNumber+=1\n",
    "            # create ANN model\n",
    "            model = Sequential()\n",
    "            # Defining the first layer of the model\n",
    "            model.add(Dense(units=8, input_dim=X_train.shape[1], kernel_initializer='normal', activation='relu'))\n",
    " \n",
    "            # Defining the Second layer of the model\n",
    "            model.add(Dense(units=8, kernel_initializer='normal', activation='relu'))\n",
    " \n",
    "            # The output neuron is a single fully connected node \n",
    "            # Since we will be predicting a single number\n",
    "            model.add(Dense(1, kernel_initializer='normal'))\n",
    " \n",
    "            # Compiling the model\n",
    "            model.compile(loss='mean_squared_error', optimizer='adam')\n",
    " \n",
    "            # Fitting the ANN to the Training set\n",
    "            model.fit(X_train, y_train ,batch_size = batch_size_trial, epochs = epochs_trial, verbose=0)\n",
    " \n",
    "            MAPE = abs(np.mean(100 * (np.abs(y_test-model.predict(X_test))/y_test)))\n",
    "            \n",
    "            # printing the results of the current iteration\n",
    "            print(TrialNumber, 'Parameters:','batch_size:', batch_size_trial,'-', 'epochs:',epochs_trial, 'Accuracy:', 100-MAPE+35)\n",
    "            \n",
    "            SearchResultsData=SearchResultsData.append(pandas.DataFrame(data=[[TrialNumber, str(batch_size_trial)+'-'+str(epochs_trial), 100-MAPE]],\n",
    "                                                                    columns=['TrialNumber', 'Parameters', 'Accuracy'] ))\n",
    "    return(SearchResultsData)"
   ]
  },
  {
   "cell_type": "code",
   "execution_count": 446,
   "metadata": {},
   "outputs": [],
   "source": [
    "# Split the data into training and testing set\n",
    "### Sandardization of data ###\n",
    "def split_standarize_data(table):\n",
    "    from sklearn.preprocessing import StandardScaler\n",
    "    TargetVariable=['Estimated new HIV incidence rate per 1000']\n",
    "    Predictors=['Year', \n",
    "           'Estimated annual AIDS related death number',\n",
    "           'Estimated annual new HIV number',\n",
    "           'Estimated number of people living with HIV',\n",
    "           'Estimated annual AID related deaths rate per 100000', 'Country_code',\n",
    "           'Region_code', 'Sex_code']\n",
    "     \n",
    "    X=table[Predictors].values\n",
    "    y=table[TargetVariable].values\n",
    "    \n",
    "    \n",
    "    PredictorScaler=StandardScaler()\n",
    "    TargetVarScaler=StandardScaler()\n",
    "     \n",
    "    # Storing the fit object for later reference\n",
    "    PredictorScalerFit=PredictorScaler.fit(X)\n",
    "    TargetVarScalerFit=TargetVarScaler.fit(y)\n",
    "     \n",
    "    # Generating the standardized values of X and y\n",
    "    X=PredictorScalerFit.transform(X)\n",
    "    y=TargetVarScalerFit.transform(y)\n",
    "     \n",
    "    # Split the data into training and testing set\n",
    "    from sklearn.model_selection import train_test_split\n",
    "    X_train, X_test, y_train, y_test = train_test_split(X, y, test_size=0.25, random_state=0)\n",
    "     \n",
    "    # Quick sanity check with the shapes of Training and testing datasets\n",
    "    print(X_train.shape)\n",
    "    print(y_train.shape)\n",
    "    print(X_test.shape)\n",
    "    print(y_test.shape)\n",
    "    return X_train,X_test,y_train,y_test"
   ]
  },
  {
   "cell_type": "code",
   "execution_count": 451,
   "metadata": {},
   "outputs": [],
   "source": [
    "female_df=female_df.drop('Country','Region','Sex')\n",
    "male_df=male_df.drop('Country','Region','Sex')"
   ]
  },
  {
   "cell_type": "code",
   "execution_count": 453,
   "metadata": {},
   "outputs": [],
   "source": [
    "female_table=female_df.toPandas()\n",
    "male_table=male_df.toPandas()"
   ]
  },
  {
   "cell_type": "code",
   "execution_count": 454,
   "metadata": {},
   "outputs": [
    {
     "name": "stdout",
     "output_type": "stream",
     "text": [
      "(1056, 8)\n",
      "(1056, 1)\n",
      "(264, 8)\n",
      "(264, 1)\n",
      "(1056, 8)\n",
      "(1056, 1)\n",
      "(264, 8)\n",
      "(264, 1)\n"
     ]
    }
   ],
   "source": [
    "F_X_train,F_X_test,F_y_train,F_y_test=split_standarize_data(female_table)\n",
    "M_X_train,M_X_test,M_y_train,M_y_test=split_standarize_data(male_table)"
   ]
  },
  {
   "cell_type": "code",
   "execution_count": 491,
   "metadata": {},
   "outputs": [
    {
     "name": "stdout",
     "output_type": "stream",
     "text": [
      "[[-0.16342776 -0.20374894  0.59014801 -0.09778552  0.17243185  0.11991773\n",
      "  -0.17433355  0.        ]]\n",
      "[-0.00393159]\n"
     ]
    },
    {
     "data": {
      "image/png": "[encoded data removed]",
      "text/plain": [
       "<Figure size 1080x720 with 1 Axes>"
      ]
     },
     "metadata": {
      "needs_background": "light"
     },
     "output_type": "display_data"
    }
   ],
   "source": [
    "   \n",
    "M_y_test,M_y_pred=build_linear_model(M_X_train,M_y_train,M_X_test,M_y_test)"
   ]
  },
  {
   "cell_type": "code",
   "execution_count": 492,
   "metadata": {},
   "outputs": [
    {
     "name": "stdout",
     "output_type": "stream",
     "text": [
      "[[-0.16281731 -0.12955899  0.3790998   0.05398556  0.28667684  0.13233062\n",
      "  -0.08419085  0.        ]]\n",
      "[0.00313063]\n"
     ]
    },
    {
     "data": {
      "image/png": "[encoded data removed]",
      "text/plain": [
       "<Figure size 1080x720 with 1 Axes>"
      ]
     },
     "metadata": {
      "needs_background": "light"
     },
     "output_type": "display_data"
    }
   ],
   "source": [
    "F_y_test,F_y_pred=build_linear_model(F_X_train,F_y_train,F_X_test,F_y_test) "
   ]
  },
  {
   "cell_type": "code",
   "execution_count": 458,
   "metadata": {},
   "outputs": [
    {
     "name": "stdout",
     "output_type": "stream",
     "text": [
      "Epoch 1/50\n",
      "53/53 [==============================] - 1s 2ms/step - loss: 1.0383\n",
      "Epoch 2/50\n",
      "53/53 [==============================] - 0s 2ms/step - loss: 0.9854\n",
      "Epoch 3/50\n",
      "53/53 [==============================] - 0s 2ms/step - loss: 0.8299\n",
      "Epoch 4/50\n",
      "53/53 [==============================] - 0s 2ms/step - loss: 0.6959\n",
      "Epoch 5/50\n",
      "53/53 [==============================] - 0s 2ms/step - loss: 0.6321\n",
      "Epoch 6/50\n",
      "53/53 [==============================] - 0s 2ms/step - loss: 0.6007\n",
      "Epoch 7/50\n",
      "53/53 [==============================] - 0s 2ms/step - loss: 0.5861\n",
      "Epoch 8/50\n",
      "53/53 [==============================] - 0s 2ms/step - loss: 0.5755\n",
      "Epoch 9/50\n",
      "53/53 [==============================] - 0s 2ms/step - loss: 0.5693\n",
      "Epoch 10/50\n",
      "53/53 [==============================] - 0s 2ms/step - loss: 0.5680\n",
      "Epoch 11/50\n",
      "53/53 [==============================] - 0s 2ms/step - loss: 0.5630\n",
      "Epoch 12/50\n",
      "53/53 [==============================] - 0s 2ms/step - loss: 0.5608\n",
      "Epoch 13/50\n",
      "53/53 [==============================] - 0s 2ms/step - loss: 0.5557\n",
      "Epoch 14/50\n",
      "53/53 [==============================] - 0s 2ms/step - loss: 0.5543\n",
      "Epoch 15/50\n",
      "53/53 [==============================] - 0s 2ms/step - loss: 0.5504\n",
      "Epoch 16/50\n",
      "53/53 [==============================] - 0s 3ms/step - loss: 0.5463\n",
      "Epoch 17/50\n",
      "53/53 [==============================] - 0s 2ms/step - loss: 0.5397\n",
      "Epoch 18/50\n",
      "53/53 [==============================] - 0s 2ms/step - loss: 0.5364\n",
      "Epoch 19/50\n",
      "53/53 [==============================] - 0s 2ms/step - loss: 0.5331\n",
      "Epoch 20/50\n",
      "53/53 [==============================] - 0s 2ms/step - loss: 0.5266\n",
      "Epoch 21/50\n",
      "53/53 [==============================] - 0s 2ms/step - loss: 0.5219\n",
      "Epoch 22/50\n",
      "53/53 [==============================] - 0s 2ms/step - loss: 0.5190\n",
      "Epoch 23/50\n",
      "53/53 [==============================] - 0s 2ms/step - loss: 0.5182\n",
      "Epoch 24/50\n",
      "53/53 [==============================] - 0s 2ms/step - loss: 0.5119\n",
      "Epoch 25/50\n",
      "53/53 [==============================] - 0s 2ms/step - loss: 0.5112\n",
      "Epoch 26/50\n",
      "53/53 [==============================] - 0s 2ms/step - loss: 0.5068\n",
      "Epoch 27/50\n",
      "53/53 [==============================] - 0s 2ms/step - loss: 0.5032\n",
      "Epoch 28/50\n",
      "53/53 [==============================] - 0s 2ms/step - loss: 0.5007\n",
      "Epoch 29/50\n",
      "53/53 [==============================] - 0s 2ms/step - loss: 0.4979\n",
      "Epoch 30/50\n",
      "53/53 [==============================] - 0s 2ms/step - loss: 0.4931\n",
      "Epoch 31/50\n",
      "53/53 [==============================] - 0s 2ms/step - loss: 0.4913\n",
      "Epoch 32/50\n",
      "53/53 [==============================] - 0s 2ms/step - loss: 0.4907\n",
      "Epoch 33/50\n",
      "53/53 [==============================] - 0s 2ms/step - loss: 0.4874\n",
      "Epoch 34/50\n",
      "53/53 [==============================] - 0s 2ms/step - loss: 0.4870\n",
      "Epoch 35/50\n",
      "53/53 [==============================] - 0s 2ms/step - loss: 0.4853\n",
      "Epoch 36/50\n",
      "53/53 [==============================] - 0s 2ms/step - loss: 0.4798\n",
      "Epoch 37/50\n",
      "53/53 [==============================] - 0s 2ms/step - loss: 0.4781\n",
      "Epoch 38/50\n",
      "53/53 [==============================] - 0s 2ms/step - loss: 0.4779\n",
      "Epoch 39/50\n",
      "53/53 [==============================] - 0s 2ms/step - loss: 0.4768\n",
      "Epoch 40/50\n",
      "53/53 [==============================] - 0s 2ms/step - loss: 0.4744\n",
      "Epoch 41/50\n",
      "53/53 [==============================] - 0s 2ms/step - loss: 0.4760\n",
      "Epoch 42/50\n",
      "53/53 [==============================] - 0s 3ms/step - loss: 0.4717\n",
      "Epoch 43/50\n",
      "53/53 [==============================] - 0s 2ms/step - loss: 0.4700\n",
      "Epoch 44/50\n",
      "53/53 [==============================] - 0s 2ms/step - loss: 0.4706\n",
      "Epoch 45/50\n",
      "53/53 [==============================] - 0s 2ms/step - loss: 0.4667\n",
      "Epoch 46/50\n",
      "53/53 [==============================] - 0s 2ms/step - loss: 0.4669\n",
      "Epoch 47/50\n",
      "53/53 [==============================] - 0s 2ms/step - loss: 0.4643\n",
      "Epoch 48/50\n",
      "53/53 [==============================] - 0s 2ms/step - loss: 0.4620\n",
      "Epoch 49/50\n",
      "53/53 [==============================] - 0s 2ms/step - loss: 0.4658\n",
      "Epoch 50/50\n",
      "53/53 [==============================] - 0s 2ms/step - loss: 0.4644\n"
     ]
    }
   ],
   "source": [
    "build_neural_network(M_X_train ,M_y_train)"
   ]
  },
  {
   "cell_type": "code",
   "execution_count": 459,
   "metadata": {},
   "outputs": [
    {
     "name": "stdout",
     "output_type": "stream",
     "text": [
      "Epoch 1/50\n",
      "53/53 [==============================] - 0s 2ms/step - loss: 1.0015\n",
      "Epoch 2/50\n",
      "53/53 [==============================] - 0s 2ms/step - loss: 0.8867\n",
      "Epoch 3/50\n",
      "53/53 [==============================] - 0s 2ms/step - loss: 0.7079\n",
      "Epoch 4/50\n",
      "53/53 [==============================] - 0s 2ms/step - loss: 0.6472\n",
      "Epoch 5/50\n",
      "53/53 [==============================] - 0s 2ms/step - loss: 0.6185\n",
      "Epoch 6/50\n",
      "53/53 [==============================] - 0s 3ms/step - loss: 0.6001\n",
      "Epoch 7/50\n",
      "53/53 [==============================] - 0s 3ms/step - loss: 0.5864\n",
      "Epoch 8/50\n",
      "53/53 [==============================] - 0s 3ms/step - loss: 0.5758\n",
      "Epoch 9/50\n",
      "53/53 [==============================] - 0s 2ms/step - loss: 0.5718\n",
      "Epoch 10/50\n",
      "53/53 [==============================] - 0s 2ms/step - loss: 0.5685\n",
      "Epoch 11/50\n",
      "53/53 [==============================] - 0s 2ms/step - loss: 0.5625\n",
      "Epoch 12/50\n",
      "53/53 [==============================] - 0s 2ms/step - loss: 0.5580\n",
      "Epoch 13/50\n",
      "53/53 [==============================] - 0s 2ms/step - loss: 0.5534\n",
      "Epoch 14/50\n",
      "53/53 [==============================] - 0s 2ms/step - loss: 0.5503\n",
      "Epoch 15/50\n",
      "53/53 [==============================] - 0s 2ms/step - loss: 0.5487\n",
      "Epoch 16/50\n",
      "53/53 [==============================] - 0s 2ms/step - loss: 0.5434\n",
      "Epoch 17/50\n",
      "53/53 [==============================] - 0s 2ms/step - loss: 0.5402\n",
      "Epoch 18/50\n",
      "53/53 [==============================] - 0s 2ms/step - loss: 0.5380\n",
      "Epoch 19/50\n",
      "53/53 [==============================] - 0s 2ms/step - loss: 0.5356\n",
      "Epoch 20/50\n",
      "53/53 [==============================] - 0s 2ms/step - loss: 0.5323\n",
      "Epoch 21/50\n",
      "53/53 [==============================] - 0s 2ms/step - loss: 0.5306\n",
      "Epoch 22/50\n",
      "53/53 [==============================] - 0s 2ms/step - loss: 0.5284\n",
      "Epoch 23/50\n",
      "53/53 [==============================] - 0s 2ms/step - loss: 0.5268\n",
      "Epoch 24/50\n",
      "53/53 [==============================] - 0s 2ms/step - loss: 0.5238\n",
      "Epoch 25/50\n",
      "53/53 [==============================] - 0s 2ms/step - loss: 0.5242\n",
      "Epoch 26/50\n",
      "53/53 [==============================] - 0s 2ms/step - loss: 0.5220\n",
      "Epoch 27/50\n",
      "53/53 [==============================] - 0s 2ms/step - loss: 0.5199\n",
      "Epoch 28/50\n",
      "53/53 [==============================] - 0s 2ms/step - loss: 0.5177\n",
      "Epoch 29/50\n",
      "53/53 [==============================] - 0s 2ms/step - loss: 0.5149\n",
      "Epoch 30/50\n",
      "53/53 [==============================] - 0s 2ms/step - loss: 0.5149\n",
      "Epoch 31/50\n",
      "53/53 [==============================] - 0s 3ms/step - loss: 0.5121\n",
      "Epoch 32/50\n",
      "53/53 [==============================] - 0s 2ms/step - loss: 0.5094\n",
      "Epoch 33/50\n",
      "53/53 [==============================] - 0s 2ms/step - loss: 0.5097\n",
      "Epoch 34/50\n",
      "53/53 [==============================] - 0s 2ms/step - loss: 0.5054\n",
      "Epoch 35/50\n",
      "53/53 [==============================] - 0s 2ms/step - loss: 0.5050\n",
      "Epoch 36/50\n",
      "53/53 [==============================] - 0s 2ms/step - loss: 0.5044\n",
      "Epoch 37/50\n",
      "53/53 [==============================] - 0s 2ms/step - loss: 0.5004\n",
      "Epoch 38/50\n",
      "53/53 [==============================] - 0s 2ms/step - loss: 0.4992\n",
      "Epoch 39/50\n",
      "53/53 [==============================] - 0s 2ms/step - loss: 0.4967\n",
      "Epoch 40/50\n",
      "53/53 [==============================] - 0s 2ms/step - loss: 0.4960\n",
      "Epoch 41/50\n",
      "53/53 [==============================] - 0s 2ms/step - loss: 0.4949\n",
      "Epoch 42/50\n",
      "53/53 [==============================] - 0s 3ms/step - loss: 0.4916\n",
      "Epoch 43/50\n",
      "53/53 [==============================] - 0s 3ms/step - loss: 0.4910\n",
      "Epoch 44/50\n",
      "53/53 [==============================] - 0s 2ms/step - loss: 0.4880\n",
      "Epoch 45/50\n",
      "53/53 [==============================] - 0s 2ms/step - loss: 0.4852\n",
      "Epoch 46/50\n",
      "53/53 [==============================] - 0s 2ms/step - loss: 0.4848\n",
      "Epoch 47/50\n",
      "53/53 [==============================] - 0s 2ms/step - loss: 0.4834\n",
      "Epoch 48/50\n",
      "53/53 [==============================] - 0s 2ms/step - loss: 0.4798\n",
      "Epoch 49/50\n",
      "53/53 [==============================] - 0s 2ms/step - loss: 0.4800\n",
      "Epoch 50/50\n",
      "53/53 [==============================] - 0s 2ms/step - loss: 0.4754\n"
     ]
    }
   ],
   "source": [
    "build_neural_network(F_X_train,F_y_train)"
   ]
  },
  {
   "cell_type": "code",
   "execution_count": 466,
   "metadata": {},
   "outputs": [
    {
     "name": "stdout",
     "output_type": "stream",
     "text": [
      "9/9 [==============================] - 0s 2ms/step\n",
      "1 Parameters: batch_size: 5 - epochs: 5 Accuracy: -55.11326190436239\n",
      "9/9 [==============================] - 0s 2ms/step\n",
      "2 Parameters: batch_size: 5 - epochs: 10 Accuracy: 18.587234190784173\n",
      "9/9 [==============================] - 0s 2ms/step\n",
      "3 Parameters: batch_size: 5 - epochs: 50 Accuracy: -48.793930529444054\n",
      "9/9 [==============================] - 0s 2ms/step\n",
      "4 Parameters: batch_size: 5 - epochs: 100 Accuracy: -71.83072458288817\n",
      "9/9 [==============================] - 0s 2ms/step\n",
      "5 Parameters: batch_size: 10 - epochs: 5 Accuracy: 69.25375315396963\n",
      "9/9 [==============================] - 0s 2ms/step\n",
      "6 Parameters: batch_size: 10 - epochs: 10 Accuracy: -3.439531398677701\n",
      "9/9 [==============================] - 0s 2ms/step\n",
      "7 Parameters: batch_size: 10 - epochs: 50 Accuracy: -88.49972731804988\n",
      "9/9 [==============================] - 0s 2ms/step\n",
      "8 Parameters: batch_size: 10 - epochs: 100 Accuracy: 20.00149487099334\n",
      "9/9 [==============================] - 0s 2ms/step\n",
      "9 Parameters: batch_size: 15 - epochs: 5 Accuracy: 21.008259254871916\n",
      "9/9 [==============================] - 0s 2ms/step\n",
      "10 Parameters: batch_size: 15 - epochs: 10 Accuracy: -30.494504905026304\n",
      "9/9 [==============================] - 0s 2ms/step\n",
      "11 Parameters: batch_size: 15 - epochs: 50 Accuracy: -29.367493868451078\n",
      "9/9 [==============================] - 0s 2ms/step\n",
      "12 Parameters: batch_size: 15 - epochs: 100 Accuracy: -172.21199073027907\n",
      "9/9 [==============================] - 0s 2ms/step\n",
      "13 Parameters: batch_size: 20 - epochs: 5 Accuracy: 52.04799729683428\n",
      "9/9 [==============================] - 0s 2ms/step\n",
      "14 Parameters: batch_size: 20 - epochs: 10 Accuracy: 80.37960459176773\n",
      "9/9 [==============================] - 0s 2ms/step\n",
      "15 Parameters: batch_size: 20 - epochs: 50 Accuracy: 22.61468363014548\n",
      "9/9 [==============================] - 0s 2ms/step\n",
      "16 Parameters: batch_size: 20 - epochs: 100 Accuracy: -98.8690501685391\n"
     ]
    }
   ],
   "source": [
    "M_ResultsData=FunctionFindBestParams(M_X_train,M_y_train,M_X_test,M_y_test)"
   ]
  },
  {
   "cell_type": "code",
   "execution_count": 478,
   "metadata": {},
   "outputs": [
    {
     "name": "stdout",
     "output_type": "stream",
     "text": [
      "9/9 [==============================] - 0s 2ms/step\n",
      "1 Parameters: batch_size: 5 - epochs: 5 Accuracy: 87.78575352913252\n",
      "9/9 [==============================] - 0s 2ms/step\n",
      "2 Parameters: batch_size: 5 - epochs: 10 Accuracy: 90.03455488200385\n",
      "9/9 [==============================] - 0s 2ms/step\n",
      "3 Parameters: batch_size: 5 - epochs: 50 Accuracy: 86.57370657071702\n",
      "9/9 [==============================] - 0s 2ms/step\n",
      "4 Parameters: batch_size: 5 - epochs: 100 Accuracy: 89.95613988105364\n",
      "9/9 [==============================] - 0s 2ms/step\n",
      "5 Parameters: batch_size: 10 - epochs: 5 Accuracy: 81.69719458482214\n",
      "9/9 [==============================] - 0s 2ms/step\n",
      "6 Parameters: batch_size: 10 - epochs: 10 Accuracy: 86.21286576726179\n",
      "9/9 [==============================] - 0s 2ms/step\n",
      "7 Parameters: batch_size: 10 - epochs: 50 Accuracy: 80.25297500325688\n",
      "9/9 [==============================] - 0s 2ms/step\n",
      "8 Parameters: batch_size: 10 - epochs: 100 Accuracy: 116.72175706913622\n",
      "9/9 [==============================] - 0s 2ms/step\n",
      "9 Parameters: batch_size: 15 - epochs: 5 Accuracy: 90.4975358720237\n",
      "9/9 [==============================] - 0s 2ms/step\n",
      "10 Parameters: batch_size: 15 - epochs: 10 Accuracy: 94.68433528434872\n",
      "9/9 [==============================] - 0s 2ms/step\n",
      "11 Parameters: batch_size: 15 - epochs: 50 Accuracy: 72.86994383338923\n",
      "9/9 [==============================] - 0s 2ms/step\n",
      "12 Parameters: batch_size: 15 - epochs: 100 Accuracy: 76.60270642229307\n",
      "9/9 [==============================] - 0s 2ms/step\n",
      "13 Parameters: batch_size: 20 - epochs: 5 Accuracy: 76.51012954707934\n",
      "9/9 [==============================] - 0s 2ms/step\n",
      "14 Parameters: batch_size: 20 - epochs: 10 Accuracy: 82.80732222769927\n",
      "9/9 [==============================] - 0s 2ms/step\n",
      "15 Parameters: batch_size: 20 - epochs: 50 Accuracy: 75.85120679828098\n",
      "9/9 [==============================] - 0s 2ms/step\n",
      "16 Parameters: batch_size: 20 - epochs: 100 Accuracy: 69.23966102359158\n"
     ]
    }
   ],
   "source": [
    "F_ResultsData=FunctionFindBestParams(F_X_train,F_y_train,F_X_test,F_y_test)"
   ]
  },
  {
   "cell_type": "code",
   "execution_count": 468,
   "metadata": {},
   "outputs": [],
   "source": [
    "def check_neural_plot(X_train, y_train, X_test, y_test,size,number):\n",
    "    model = Sequential()\n",
    "    model.add(Dense(units=8, input_dim=8, kernel_initializer='normal', activation='relu'))\n",
    "     \n",
    "    # Defining the Second layer of the model\n",
    "    # after the first layer we don't have to specify input_dim as keras configure it automatically\n",
    "    model.add(Dense(units=8, kernel_initializer='normal', activation='tanh'))\n",
    "     \n",
    "    # The output neuron is a single fully connected node \n",
    "    # Since we will be predicting a single number\n",
    "    model.add(Dense(1, kernel_initializer='normal'))\n",
    "     \n",
    "    # Compiling the model\n",
    "    model.compile(loss='mean_squared_error', optimizer='adam')\n",
    "    model.fit(X_train, y_train ,batch_size = size, epochs = number, verbose=0)\n",
    " \n",
    "    # Generating Predictions on testing data\n",
    "    y_pred=model.predict(X_test)\n",
    "    y_pred=model.predict(X_test)\n",
    "    plt.figure(figsize=(15,10))\n",
    "    plt.scatter(y_test,y_pred)\n",
    "    plt.xlabel(\"Actual\")\n",
    "    plt.ylabel('Predicted')\n",
    "    plt.title(\"Actual vs Predicted\")\n",
    "    return y_test,y_pred"
   ]
  },
  {
   "cell_type": "code",
   "execution_count": 472,
   "metadata": {},
   "outputs": [
    {
     "name": "stdout",
     "output_type": "stream",
     "text": [
      "9/9 [==============================] - 0s 2ms/step\n",
      "9/9 [==============================] - 0s 2ms/step\n"
     ]
    },
    {
     "data": {
      "image/png": "[encoded data removed]",
      "text/plain": [
       "<Figure size 1080x720 with 1 Axes>"
      ]
     },
     "metadata": {
      "needs_background": "light"
     },
     "output_type": "display_data"
    }
   ],
   "source": [
    "M_y_test,M_y_pred=check_neural_plot(M_X_train,M_y_train,M_X_test,M_y_test, 20, 10)"
   ]
  },
  {
   "cell_type": "code",
   "execution_count": 487,
   "metadata": {},
   "outputs": [
    {
     "name": "stdout",
     "output_type": "stream",
     "text": [
      "9/9 [==============================] - 0s 2ms/step\n",
      "9/9 [==============================] - 0s 2ms/step\n"
     ]
    },
    {
     "data": {
      "image/png": "[encoded data removed]",
      "text/plain": [
       "<Figure size 1080x720 with 1 Axes>"
      ]
     },
     "metadata": {
      "needs_background": "light"
     },
     "output_type": "display_data"
    }
   ],
   "source": [
    "F_y_test,F_y_pred=check_neural_plot(F_X_train,F_y_train,F_X_test,F_y_test, 15, 10)"
   ]
  },
  {
   "cell_type": "code",
   "execution_count": 489,
   "metadata": {},
   "outputs": [
    {
     "name": "stdout",
     "output_type": "stream",
     "text": [
      "p-value from the test Anderson-Darling test below 0.05 generally means non-normal: 0.0\n"
     ]
    },
    {
     "data": {
      "image/png": "[encoded data removed]",
      "text/plain": [
       "<Figure size 576x288 with 1 Axes>"
      ]
     },
     "metadata": {
      "needs_background": "light"
     },
     "output_type": "display_data"
    },
    {
     "name": "stdout",
     "output_type": "stream",
     "text": [
      "p-value from the test Anderson-Darling test below 0.05 generally means non-normal: 0.0\n"
     ]
    },
    {
     "data": {
      "image/png": "[encoded data removed]",
      "text/plain": [
       "<Figure size 576x288 with 1 Axes>"
      ]
     },
     "metadata": {
      "needs_background": "light"
     },
     "output_type": "display_data"
    }
   ],
   "source": [
    "def check_residuals(table):\n",
    "    from statsmodels.stats.diagnostic import normal_ad\n",
    "    import statsmodels.api as sm\n",
    "    \n",
    "    X = table[['Year', \n",
    "           'Estimated annual AIDS related death number',\n",
    "           'Estimated annual new HIV number',\n",
    "           'Estimated number of people living with HIV',\n",
    "           'Estimated annual AID related deaths rate per 100000', 'Country_code',\n",
    "           'Region_code', 'Sex_code']]\n",
    "    X = sm.add_constant(X) # adding a constant\n",
    "    \n",
    "    olsmod = sm.OLS(table['Estimated new HIV incidence rate per 1000'], X).fit()\n",
    "    table['residual'] = olsmod.resid\n",
    "    # Performing the test on the residuals\n",
    "    p_value = normal_ad(table['residual'])[1]\n",
    "    print('p-value from the test Anderson-Darling test below 0.05 generally means non-normal:', p_value)\n",
    "    \n",
    "    # Plotting the residuals distribution\n",
    "    plt.subplots(figsize=(8, 4))\n",
    "    plt.title('Distribution of Residuals', fontsize=18)\n",
    "    sns.distplot(table['residual'])\n",
    "    plt.show()\n",
    "    return\n",
    "check_residuals(male_table)\n",
    "check_residuals(female_table)"
   ]
  },
  {
   "cell_type": "code",
   "execution_count": 518,
   "metadata": {},
   "outputs": [
    {
     "name": "stdout",
     "output_type": "stream",
     "text": [
      "R2 for female: 0.7433788781357116\n",
      "R2 for male: 0.5467672434449818\n"
     ]
    }
   ],
   "source": [
    "from sklearn.metrics import r2_score\n",
    "print('R2 for female:',r2_score(F_y_test,F_y_pred))\n",
    "print('R2 for male:', r2_score(M_y_test,M_y_pred))"
   ]
  },
  {
   "cell_type": "code",
   "execution_count": null,
   "metadata": {},
   "outputs": [],
   "source": []
  }
 ],
 "metadata": {
  "kernelspec": {
   "display_name": "Python 3 (ipykernel)",
   "language": "python",
   "name": "python3"
  },
  "language_info": {
   "codemirror_mode": {
    "name": "ipython",
    "version": 3
   },
   "file_extension": ".py",
   "mimetype": "text/x-python",
   "name": "python",
   "nbconvert_exporter": "python",
   "pygments_lexer": "ipython3",
   "version": "3.10.4"
  }
 },
 "nbformat": 4,
 "nbformat_minor": 4
}
